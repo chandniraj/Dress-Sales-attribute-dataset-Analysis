{
 "cells": [
  {
   "cell_type": "code",
   "execution_count": 1,
   "metadata": {},
   "outputs": [],
   "source": [
    "#Import the required Libraries.\n",
    "import numpy as np\n",
    "import pandas as pd\n",
    "import matplotlib.pyplot as plt\n",
    "import seaborn as sns"
   ]
  },
  {
   "cell_type": "markdown",
   "metadata": {},
   "source": [
    "## Data Cleaning "
   ]
  },
  {
   "cell_type": "markdown",
   "metadata": {},
   "source": [
    "### Data Reading & Data Types "
   ]
  },
  {
   "cell_type": "code",
   "execution_count": 2,
   "metadata": {},
   "outputs": [
    {
     "data": {
      "text/html": [
       "<div>\n",
       "<style scoped>\n",
       "    .dataframe tbody tr th:only-of-type {\n",
       "        vertical-align: middle;\n",
       "    }\n",
       "\n",
       "    .dataframe tbody tr th {\n",
       "        vertical-align: top;\n",
       "    }\n",
       "\n",
       "    .dataframe thead th {\n",
       "        text-align: right;\n",
       "    }\n",
       "</style>\n",
       "<table border=\"1\" class=\"dataframe\">\n",
       "  <thead>\n",
       "    <tr style=\"text-align: right;\">\n",
       "      <th></th>\n",
       "      <th>Dress_ID</th>\n",
       "      <th>29-08-2013</th>\n",
       "      <th>31-08-2013</th>\n",
       "      <th>09-02-2013</th>\n",
       "      <th>09-04-2013</th>\n",
       "      <th>09-06-2013</th>\n",
       "      <th>09-08-2013</th>\n",
       "      <th>09-10-2013</th>\n",
       "      <th>09-12-2013</th>\n",
       "      <th>14-09-2013</th>\n",
       "      <th>...</th>\n",
       "      <th>24-09-2013</th>\n",
       "      <th>26-09-2013</th>\n",
       "      <th>28-09-2013</th>\n",
       "      <th>30-09-2013</th>\n",
       "      <th>10-02-2013</th>\n",
       "      <th>10-04-2013</th>\n",
       "      <th>10-06-2013</th>\n",
       "      <th>10-08-2013</th>\n",
       "      <th>10-10-2013</th>\n",
       "      <th>10-12-2013</th>\n",
       "    </tr>\n",
       "  </thead>\n",
       "  <tbody>\n",
       "    <tr>\n",
       "      <th>0</th>\n",
       "      <td>1.006033e+09</td>\n",
       "      <td>2114</td>\n",
       "      <td>2274</td>\n",
       "      <td>2491</td>\n",
       "      <td>2660</td>\n",
       "      <td>2727</td>\n",
       "      <td>2887</td>\n",
       "      <td>2930</td>\n",
       "      <td>3119</td>\n",
       "      <td>3204</td>\n",
       "      <td>...</td>\n",
       "      <td>3554</td>\n",
       "      <td>3624.0</td>\n",
       "      <td>3706</td>\n",
       "      <td>3746.0</td>\n",
       "      <td>3795.0</td>\n",
       "      <td>3832.0</td>\n",
       "      <td>3897</td>\n",
       "      <td>3923.0</td>\n",
       "      <td>3985.0</td>\n",
       "      <td>4048</td>\n",
       "    </tr>\n",
       "    <tr>\n",
       "      <th>1</th>\n",
       "      <td>1.212192e+09</td>\n",
       "      <td>151</td>\n",
       "      <td>275</td>\n",
       "      <td>570</td>\n",
       "      <td>750</td>\n",
       "      <td>813</td>\n",
       "      <td>1066</td>\n",
       "      <td>1164</td>\n",
       "      <td>1558</td>\n",
       "      <td>1756</td>\n",
       "      <td>...</td>\n",
       "      <td>2710</td>\n",
       "      <td>2942.0</td>\n",
       "      <td>3258</td>\n",
       "      <td>3354.0</td>\n",
       "      <td>3475.0</td>\n",
       "      <td>3654.0</td>\n",
       "      <td>3911</td>\n",
       "      <td>4024.0</td>\n",
       "      <td>4125.0</td>\n",
       "      <td>4277</td>\n",
       "    </tr>\n",
       "    <tr>\n",
       "      <th>2</th>\n",
       "      <td>1.190381e+09</td>\n",
       "      <td>6</td>\n",
       "      <td>7</td>\n",
       "      <td>7</td>\n",
       "      <td>7</td>\n",
       "      <td>8</td>\n",
       "      <td>8</td>\n",
       "      <td>9</td>\n",
       "      <td>10</td>\n",
       "      <td>10</td>\n",
       "      <td>...</td>\n",
       "      <td>11</td>\n",
       "      <td>11.0</td>\n",
       "      <td>11</td>\n",
       "      <td>11.0</td>\n",
       "      <td>11.0</td>\n",
       "      <td>11.0</td>\n",
       "      <td>11</td>\n",
       "      <td>11.0</td>\n",
       "      <td>11.0</td>\n",
       "      <td>11</td>\n",
       "    </tr>\n",
       "    <tr>\n",
       "      <th>3</th>\n",
       "      <td>9.660060e+08</td>\n",
       "      <td>1005</td>\n",
       "      <td>1128</td>\n",
       "      <td>1326</td>\n",
       "      <td>1455</td>\n",
       "      <td>1507</td>\n",
       "      <td>1621</td>\n",
       "      <td>1637</td>\n",
       "      <td>1723</td>\n",
       "      <td>1746</td>\n",
       "      <td>...</td>\n",
       "      <td>1878</td>\n",
       "      <td>1892.0</td>\n",
       "      <td>1914</td>\n",
       "      <td>1924.0</td>\n",
       "      <td>1929.0</td>\n",
       "      <td>1941.0</td>\n",
       "      <td>1952</td>\n",
       "      <td>1955.0</td>\n",
       "      <td>1959.0</td>\n",
       "      <td>1963</td>\n",
       "    </tr>\n",
       "    <tr>\n",
       "      <th>4</th>\n",
       "      <td>8.763395e+08</td>\n",
       "      <td>996</td>\n",
       "      <td>1175</td>\n",
       "      <td>1304</td>\n",
       "      <td>1396</td>\n",
       "      <td>1432</td>\n",
       "      <td>1559</td>\n",
       "      <td>1570</td>\n",
       "      <td>1638</td>\n",
       "      <td>1655</td>\n",
       "      <td>...</td>\n",
       "      <td>2032</td>\n",
       "      <td>2156.0</td>\n",
       "      <td>2252</td>\n",
       "      <td>2312.0</td>\n",
       "      <td>2387.0</td>\n",
       "      <td>2459.0</td>\n",
       "      <td>2544</td>\n",
       "      <td>2614.0</td>\n",
       "      <td>2693.0</td>\n",
       "      <td>2736</td>\n",
       "    </tr>\n",
       "  </tbody>\n",
       "</table>\n",
       "<p>5 rows × 24 columns</p>\n",
       "</div>"
      ],
      "text/plain": [
       "       Dress_ID  29-08-2013  31-08-2013  09-02-2013  09-04-2013  09-06-2013  \\\n",
       "0  1.006033e+09        2114        2274        2491        2660        2727   \n",
       "1  1.212192e+09         151         275         570         750         813   \n",
       "2  1.190381e+09           6           7           7           7           8   \n",
       "3  9.660060e+08        1005        1128        1326        1455        1507   \n",
       "4  8.763395e+08         996        1175        1304        1396        1432   \n",
       "\n",
       "   09-08-2013  09-10-2013 09-12-2013 14-09-2013  ... 24-09-2013 26-09-2013  \\\n",
       "0        2887        2930       3119       3204  ...       3554     3624.0   \n",
       "1        1066        1164       1558       1756  ...       2710     2942.0   \n",
       "2           8           9         10         10  ...         11       11.0   \n",
       "3        1621        1637       1723       1746  ...       1878     1892.0   \n",
       "4        1559        1570       1638       1655  ...       2032     2156.0   \n",
       "\n",
       "  28-09-2013 30-09-2013  10-02-2013  10-04-2013  10-06-2013  10-08-2013  \\\n",
       "0       3706     3746.0      3795.0      3832.0        3897      3923.0   \n",
       "1       3258     3354.0      3475.0      3654.0        3911      4024.0   \n",
       "2         11       11.0        11.0        11.0          11        11.0   \n",
       "3       1914     1924.0      1929.0      1941.0        1952      1955.0   \n",
       "4       2252     2312.0      2387.0      2459.0        2544      2614.0   \n",
       "\n",
       "   10-10-2013  10-12-2013  \n",
       "0      3985.0        4048  \n",
       "1      4125.0        4277  \n",
       "2        11.0          11  \n",
       "3      1959.0        1963  \n",
       "4      2693.0        2736  \n",
       "\n",
       "[5 rows x 24 columns]"
      ]
     },
     "execution_count": 2,
     "metadata": {},
     "output_type": "execute_result"
    }
   ],
   "source": [
    "#Read the data in pandas\n",
    "inp0= pd.read_csv(\"Dress+Sales.csv\")\n",
    "inp1= pd.read_csv(\"Attribute+DataSet.csv\")\n",
    "inp0.head()\n"
   ]
  },
  {
   "cell_type": "code",
   "execution_count": 3,
   "metadata": {},
   "outputs": [
    {
     "data": {
      "text/html": [
       "<div>\n",
       "<style scoped>\n",
       "    .dataframe tbody tr th:only-of-type {\n",
       "        vertical-align: middle;\n",
       "    }\n",
       "\n",
       "    .dataframe tbody tr th {\n",
       "        vertical-align: top;\n",
       "    }\n",
       "\n",
       "    .dataframe thead th {\n",
       "        text-align: right;\n",
       "    }\n",
       "</style>\n",
       "<table border=\"1\" class=\"dataframe\">\n",
       "  <thead>\n",
       "    <tr style=\"text-align: right;\">\n",
       "      <th></th>\n",
       "      <th>Dress_ID</th>\n",
       "      <th>Style</th>\n",
       "      <th>Price</th>\n",
       "      <th>Rating</th>\n",
       "      <th>Size</th>\n",
       "      <th>Season</th>\n",
       "      <th>NeckLine</th>\n",
       "      <th>SleeveLength</th>\n",
       "      <th>Material</th>\n",
       "      <th>FabricType</th>\n",
       "      <th>Decoration</th>\n",
       "      <th>Pattern Type</th>\n",
       "      <th>Recommendation</th>\n",
       "    </tr>\n",
       "  </thead>\n",
       "  <tbody>\n",
       "    <tr>\n",
       "      <th>0</th>\n",
       "      <td>1006032852</td>\n",
       "      <td>Sexy</td>\n",
       "      <td>Low</td>\n",
       "      <td>4.6</td>\n",
       "      <td>M</td>\n",
       "      <td>Summer</td>\n",
       "      <td>o-neck</td>\n",
       "      <td>sleevless</td>\n",
       "      <td>NaN</td>\n",
       "      <td>chiffon</td>\n",
       "      <td>ruffles</td>\n",
       "      <td>animal</td>\n",
       "      <td>1</td>\n",
       "    </tr>\n",
       "    <tr>\n",
       "      <th>1</th>\n",
       "      <td>1212192089</td>\n",
       "      <td>Casual</td>\n",
       "      <td>Low</td>\n",
       "      <td>0.0</td>\n",
       "      <td>L</td>\n",
       "      <td>Summer</td>\n",
       "      <td>o-neck</td>\n",
       "      <td>Petal</td>\n",
       "      <td>microfiber</td>\n",
       "      <td>NaN</td>\n",
       "      <td>ruffles</td>\n",
       "      <td>animal</td>\n",
       "      <td>0</td>\n",
       "    </tr>\n",
       "    <tr>\n",
       "      <th>2</th>\n",
       "      <td>1190380701</td>\n",
       "      <td>vintage</td>\n",
       "      <td>High</td>\n",
       "      <td>0.0</td>\n",
       "      <td>L</td>\n",
       "      <td>Automn</td>\n",
       "      <td>o-neck</td>\n",
       "      <td>full</td>\n",
       "      <td>polyster</td>\n",
       "      <td>NaN</td>\n",
       "      <td>NaN</td>\n",
       "      <td>print</td>\n",
       "      <td>0</td>\n",
       "    </tr>\n",
       "    <tr>\n",
       "      <th>3</th>\n",
       "      <td>966005983</td>\n",
       "      <td>Brief</td>\n",
       "      <td>Average</td>\n",
       "      <td>4.6</td>\n",
       "      <td>L</td>\n",
       "      <td>Spring</td>\n",
       "      <td>o-neck</td>\n",
       "      <td>full</td>\n",
       "      <td>silk</td>\n",
       "      <td>chiffon</td>\n",
       "      <td>embroidary</td>\n",
       "      <td>print</td>\n",
       "      <td>1</td>\n",
       "    </tr>\n",
       "    <tr>\n",
       "      <th>4</th>\n",
       "      <td>876339541</td>\n",
       "      <td>cute</td>\n",
       "      <td>Low</td>\n",
       "      <td>4.5</td>\n",
       "      <td>M</td>\n",
       "      <td>Summer</td>\n",
       "      <td>o-neck</td>\n",
       "      <td>butterfly</td>\n",
       "      <td>chiffonfabric</td>\n",
       "      <td>chiffon</td>\n",
       "      <td>bow</td>\n",
       "      <td>dot</td>\n",
       "      <td>0</td>\n",
       "    </tr>\n",
       "  </tbody>\n",
       "</table>\n",
       "</div>"
      ],
      "text/plain": [
       "     Dress_ID    Style    Price  Rating Size  Season NeckLine SleeveLength  \\\n",
       "0  1006032852     Sexy      Low     4.6    M  Summer   o-neck    sleevless   \n",
       "1  1212192089   Casual      Low     0.0    L  Summer   o-neck        Petal   \n",
       "2  1190380701  vintage     High     0.0    L  Automn   o-neck         full   \n",
       "3   966005983    Brief  Average     4.6    L  Spring   o-neck         full   \n",
       "4   876339541     cute      Low     4.5    M  Summer   o-neck    butterfly   \n",
       "\n",
       "        Material FabricType  Decoration Pattern Type  Recommendation  \n",
       "0            NaN    chiffon     ruffles       animal               1  \n",
       "1     microfiber        NaN     ruffles       animal               0  \n",
       "2       polyster        NaN         NaN        print               0  \n",
       "3           silk    chiffon  embroidary        print               1  \n",
       "4  chiffonfabric    chiffon         bow          dot               0  "
      ]
     },
     "execution_count": 3,
     "metadata": {},
     "output_type": "execute_result"
    }
   ],
   "source": [
    "inp1.head()"
   ]
  },
  {
   "cell_type": "markdown",
   "metadata": {},
   "source": [
    "You have “Attribute DataSet” which contains a column named “Price”. Choose the correct statement from the following about its data type and variable type.\n",
    "- Integer type and numerical variable\n",
    "- Object type and categorical ordinal variable\n",
    "- Object type and categorical nominal variable\n",
    "- Float type and categorical variable.\n"
   ]
  },
  {
   "cell_type": "code",
   "execution_count": 4,
   "metadata": {},
   "outputs": [
    {
     "data": {
      "text/plain": [
       "count         477\n",
       "unique          5\n",
       "top       Average\n",
       "freq          240\n",
       "Name: Price, dtype: object"
      ]
     },
     "execution_count": 4,
     "metadata": {},
     "output_type": "execute_result"
    }
   ],
   "source": [
    "inp1.Price.describe()"
   ]
  },
  {
   "cell_type": "markdown",
   "metadata": {},
   "source": [
    "There is another column in “Attribute DataSet” named as “Recommendation”, choose the correct statement about its data type and variable type.\n",
    "- Integer type and categorical\n",
    "- Object type and categorical\n",
    "- Integer type and continuous numerical\n",
    "- Object type only.\n"
   ]
  },
  {
   "cell_type": "code",
   "execution_count": 5,
   "metadata": {},
   "outputs": [
    {
     "name": "stdout",
     "output_type": "stream",
     "text": [
      "<class 'pandas.core.series.Series'>\n",
      "RangeIndex: 479 entries, 0 to 478\n",
      "Series name: Recommendation\n",
      "Non-Null Count  Dtype\n",
      "--------------  -----\n",
      "479 non-null    int64\n",
      "dtypes: int64(1)\n",
      "memory usage: 3.9 KB\n"
     ]
    }
   ],
   "source": [
    "inp1.Recommendation.info()"
   ]
  },
  {
   "cell_type": "markdown",
   "metadata": {},
   "source": [
    "Which of the following column do you think are of no use in “Attribute DataSet”.\n",
    "- Dress_ID\n",
    "- Price\n",
    "- Size and material\n",
    "- NeckLine\n",
    "- None of the above\n"
   ]
  },
  {
   "cell_type": "code",
   "execution_count": 6,
   "metadata": {},
   "outputs": [
    {
     "data": {
      "text/html": [
       "<div>\n",
       "<style scoped>\n",
       "    .dataframe tbody tr th:only-of-type {\n",
       "        vertical-align: middle;\n",
       "    }\n",
       "\n",
       "    .dataframe tbody tr th {\n",
       "        vertical-align: top;\n",
       "    }\n",
       "\n",
       "    .dataframe thead th {\n",
       "        text-align: right;\n",
       "    }\n",
       "</style>\n",
       "<table border=\"1\" class=\"dataframe\">\n",
       "  <thead>\n",
       "    <tr style=\"text-align: right;\">\n",
       "      <th></th>\n",
       "      <th>Dress_ID</th>\n",
       "      <th>Style</th>\n",
       "      <th>Price</th>\n",
       "      <th>Rating</th>\n",
       "      <th>Size</th>\n",
       "      <th>Season</th>\n",
       "      <th>NeckLine</th>\n",
       "      <th>SleeveLength</th>\n",
       "      <th>Material</th>\n",
       "      <th>FabricType</th>\n",
       "      <th>Decoration</th>\n",
       "      <th>Pattern Type</th>\n",
       "      <th>Recommendation</th>\n",
       "    </tr>\n",
       "  </thead>\n",
       "  <tbody>\n",
       "    <tr>\n",
       "      <th>0</th>\n",
       "      <td>1006032852</td>\n",
       "      <td>Sexy</td>\n",
       "      <td>Low</td>\n",
       "      <td>4.6</td>\n",
       "      <td>M</td>\n",
       "      <td>Summer</td>\n",
       "      <td>o-neck</td>\n",
       "      <td>sleevless</td>\n",
       "      <td>NaN</td>\n",
       "      <td>chiffon</td>\n",
       "      <td>ruffles</td>\n",
       "      <td>animal</td>\n",
       "      <td>1</td>\n",
       "    </tr>\n",
       "    <tr>\n",
       "      <th>1</th>\n",
       "      <td>1212192089</td>\n",
       "      <td>Casual</td>\n",
       "      <td>Low</td>\n",
       "      <td>0.0</td>\n",
       "      <td>L</td>\n",
       "      <td>Summer</td>\n",
       "      <td>o-neck</td>\n",
       "      <td>Petal</td>\n",
       "      <td>microfiber</td>\n",
       "      <td>NaN</td>\n",
       "      <td>ruffles</td>\n",
       "      <td>animal</td>\n",
       "      <td>0</td>\n",
       "    </tr>\n",
       "    <tr>\n",
       "      <th>2</th>\n",
       "      <td>1190380701</td>\n",
       "      <td>vintage</td>\n",
       "      <td>High</td>\n",
       "      <td>0.0</td>\n",
       "      <td>L</td>\n",
       "      <td>Automn</td>\n",
       "      <td>o-neck</td>\n",
       "      <td>full</td>\n",
       "      <td>polyster</td>\n",
       "      <td>NaN</td>\n",
       "      <td>NaN</td>\n",
       "      <td>print</td>\n",
       "      <td>0</td>\n",
       "    </tr>\n",
       "    <tr>\n",
       "      <th>3</th>\n",
       "      <td>966005983</td>\n",
       "      <td>Brief</td>\n",
       "      <td>Average</td>\n",
       "      <td>4.6</td>\n",
       "      <td>L</td>\n",
       "      <td>Spring</td>\n",
       "      <td>o-neck</td>\n",
       "      <td>full</td>\n",
       "      <td>silk</td>\n",
       "      <td>chiffon</td>\n",
       "      <td>embroidary</td>\n",
       "      <td>print</td>\n",
       "      <td>1</td>\n",
       "    </tr>\n",
       "    <tr>\n",
       "      <th>4</th>\n",
       "      <td>876339541</td>\n",
       "      <td>cute</td>\n",
       "      <td>Low</td>\n",
       "      <td>4.5</td>\n",
       "      <td>M</td>\n",
       "      <td>Summer</td>\n",
       "      <td>o-neck</td>\n",
       "      <td>butterfly</td>\n",
       "      <td>chiffonfabric</td>\n",
       "      <td>chiffon</td>\n",
       "      <td>bow</td>\n",
       "      <td>dot</td>\n",
       "      <td>0</td>\n",
       "    </tr>\n",
       "  </tbody>\n",
       "</table>\n",
       "</div>"
      ],
      "text/plain": [
       "     Dress_ID    Style    Price  Rating Size  Season NeckLine SleeveLength  \\\n",
       "0  1006032852     Sexy      Low     4.6    M  Summer   o-neck    sleevless   \n",
       "1  1212192089   Casual      Low     0.0    L  Summer   o-neck        Petal   \n",
       "2  1190380701  vintage     High     0.0    L  Automn   o-neck         full   \n",
       "3   966005983    Brief  Average     4.6    L  Spring   o-neck         full   \n",
       "4   876339541     cute      Low     4.5    M  Summer   o-neck    butterfly   \n",
       "\n",
       "        Material FabricType  Decoration Pattern Type  Recommendation  \n",
       "0            NaN    chiffon     ruffles       animal               1  \n",
       "1     microfiber        NaN     ruffles       animal               0  \n",
       "2       polyster        NaN         NaN        print               0  \n",
       "3           silk    chiffon  embroidary        print               1  \n",
       "4  chiffonfabric    chiffon         bow          dot               0  "
      ]
     },
     "execution_count": 6,
     "metadata": {},
     "output_type": "execute_result"
    }
   ],
   "source": [
    "inp1.head()"
   ]
  },
  {
   "cell_type": "code",
   "execution_count": 7,
   "metadata": {},
   "outputs": [
    {
     "name": "stdout",
     "output_type": "stream",
     "text": [
      "<class 'pandas.core.frame.DataFrame'>\n",
      "RangeIndex: 479 entries, 0 to 478\n",
      "Data columns (total 24 columns):\n",
      " #   Column      Non-Null Count  Dtype  \n",
      "---  ------      --------------  -----  \n",
      " 0   Dress_ID    479 non-null    float64\n",
      " 1   29-08-2013  479 non-null    int64  \n",
      " 2   31-08-2013  479 non-null    int64  \n",
      " 3   09-02-2013  479 non-null    int64  \n",
      " 4   09-04-2013  479 non-null    int64  \n",
      " 5   09-06-2013  479 non-null    int64  \n",
      " 6   09-08-2013  479 non-null    int64  \n",
      " 7   09-10-2013  479 non-null    int64  \n",
      " 8   09-12-2013  479 non-null    object \n",
      " 9   14-09-2013  479 non-null    object \n",
      " 10  16-09-2013  479 non-null    object \n",
      " 11  18-09-2013  479 non-null    object \n",
      " 12  20-09-2013  479 non-null    object \n",
      " 13  22-09-2013  479 non-null    object \n",
      " 14  24-09-2013  479 non-null    int64  \n",
      " 15  26-09-2013  257 non-null    float64\n",
      " 16  28-09-2013  479 non-null    int64  \n",
      " 17  30-09-2013  222 non-null    float64\n",
      " 18  10-02-2013  220 non-null    float64\n",
      " 19  10-04-2013  221 non-null    float64\n",
      " 20  10-06-2013  479 non-null    int64  \n",
      " 21  10-08-2013  224 non-null    float64\n",
      " 22  10-10-2013  224 non-null    float64\n",
      " 23  10-12-2013  479 non-null    int64  \n",
      "dtypes: float64(7), int64(11), object(6)\n",
      "memory usage: 89.9+ KB\n"
     ]
    }
   ],
   "source": [
    "# Print the information about the attributes of inp0 and inp1.\n",
    "inp0.info()"
   ]
  },
  {
   "cell_type": "code",
   "execution_count": 8,
   "metadata": {},
   "outputs": [
    {
     "name": "stdout",
     "output_type": "stream",
     "text": [
      "<class 'pandas.core.frame.DataFrame'>\n",
      "RangeIndex: 479 entries, 0 to 478\n",
      "Data columns (total 13 columns):\n",
      " #   Column          Non-Null Count  Dtype  \n",
      "---  ------          --------------  -----  \n",
      " 0   Dress_ID        479 non-null    int64  \n",
      " 1   Style           479 non-null    object \n",
      " 2   Price           477 non-null    object \n",
      " 3   Rating          479 non-null    float64\n",
      " 4   Size            479 non-null    object \n",
      " 5   Season          477 non-null    object \n",
      " 6   NeckLine        476 non-null    object \n",
      " 7   SleeveLength    477 non-null    object \n",
      " 8   Material        360 non-null    object \n",
      " 9   FabricType      223 non-null    object \n",
      " 10  Decoration      255 non-null    object \n",
      " 11  Pattern Type    377 non-null    object \n",
      " 12  Recommendation  479 non-null    int64  \n",
      "dtypes: float64(1), int64(2), object(10)\n",
      "memory usage: 48.8+ KB\n"
     ]
    }
   ],
   "source": [
    "inp1.info()"
   ]
  },
  {
   "cell_type": "markdown",
   "metadata": {},
   "source": [
    "### Fixing the Rows and Columns "
   ]
  },
  {
   "cell_type": "markdown",
   "metadata": {},
   "source": [
    "As you can see, there is a column in “Attribute Dataset” named as ‘Size’. This column contains the values in abbreviation format. Write a code in Python to convert the followings:\n",
    "\n",
    "- M into  “Medium”\n",
    "- L into  “Large”\n",
    "- XL into “Extra large”\n",
    "- free into “Free”\n",
    "- S, s & small into “Small”.\n",
    "\n",
    "Now once you are done with changes in the dataset, what is the value of the lowest percentage, the highest percentage and the percentage of Small size categories in the column named “Size”?\n"
   ]
  },
  {
   "cell_type": "code",
   "execution_count": 9,
   "metadata": {},
   "outputs": [],
   "source": [
    "inp1['Size'].replace(['XL','L','M','S','s','small','free'], ['Extra Large','Large','Medium','Small','Small','Small','Free'], inplace=True)"
   ]
  },
  {
   "cell_type": "code",
   "execution_count": 10,
   "metadata": {},
   "outputs": [
    {
     "data": {
      "text/plain": [
       "array(['Medium', 'Large', 'Extra Large', 'Free', 'Small'], dtype=object)"
      ]
     },
     "execution_count": 10,
     "metadata": {},
     "output_type": "execute_result"
    }
   ],
   "source": [
    "inp1[\"Size\"].unique()"
   ]
  },
  {
   "cell_type": "code",
   "execution_count": 11,
   "metadata": {},
   "outputs": [
    {
     "data": {
      "text/plain": [
       "Medium         35.699374\n",
       "Free           34.446764\n",
       "Large          19.415449\n",
       "Small           7.515658\n",
       "Extra Large     2.922756\n",
       "Name: Size, dtype: float64"
      ]
     },
     "execution_count": 11,
     "metadata": {},
     "output_type": "execute_result"
    }
   ],
   "source": [
    "# Print the value counts of each category in \"Size\" column.\n",
    "inp1['Size'].value_counts(normalize=True)*100"
   ]
  },
  {
   "cell_type": "markdown",
   "metadata": {},
   "source": [
    "### Impute/Remove Missing values"
   ]
  },
  {
   "cell_type": "code",
   "execution_count": 12,
   "metadata": {},
   "outputs": [
    {
     "data": {
      "text/plain": [
       "Dress_ID        0\n",
       "29-08-2013      0\n",
       "31-08-2013      0\n",
       "09-02-2013      0\n",
       "09-04-2013      0\n",
       "09-06-2013      0\n",
       "09-08-2013      0\n",
       "09-10-2013      0\n",
       "09-12-2013      0\n",
       "14-09-2013      0\n",
       "16-09-2013      0\n",
       "18-09-2013      0\n",
       "20-09-2013      0\n",
       "22-09-2013      0\n",
       "24-09-2013      0\n",
       "26-09-2013    222\n",
       "28-09-2013      0\n",
       "30-09-2013    257\n",
       "10-02-2013    259\n",
       "10-04-2013    258\n",
       "10-06-2013      0\n",
       "10-08-2013    255\n",
       "10-10-2013    255\n",
       "10-12-2013      0\n",
       "dtype: int64"
      ]
     },
     "execution_count": 12,
     "metadata": {},
     "output_type": "execute_result"
    }
   ],
   "source": [
    "# Print the null count of each variables of inp0 and inp1.\n",
    "inp0.isnull().sum()"
   ]
  },
  {
   "cell_type": "code",
   "execution_count": 13,
   "metadata": {
    "scrolled": true
   },
   "outputs": [
    {
     "data": {
      "text/plain": [
       "Dress_ID            0\n",
       "Style               0\n",
       "Price               2\n",
       "Rating              0\n",
       "Size                0\n",
       "Season              2\n",
       "NeckLine            3\n",
       "SleeveLength        2\n",
       "Material          119\n",
       "FabricType        256\n",
       "Decoration        224\n",
       "Pattern Type      102\n",
       "Recommendation      0\n",
       "dtype: int64"
      ]
     },
     "execution_count": 13,
     "metadata": {},
     "output_type": "execute_result"
    }
   ],
   "source": [
    "inp1.isnull().sum()"
   ]
  },
  {
   "cell_type": "markdown",
   "metadata": {},
   "source": [
    "You are given another dataset named “Dress Sales”. Now if you observe the datatypes of the columns using ‘inp1.info()’ command, you can identify that there are certain columns defined as object data type though they primarily consist of numeric data.\n",
    "\n",
    "Now if you try and convert these object data type columns into numeric data type(float), you will come across an error message. Try to correct this error.\n",
    "\n",
    "\n",
    "\n",
    "\n",
    "\n"
   ]
  },
  {
   "cell_type": "code",
   "execution_count": 14,
   "metadata": {},
   "outputs": [
    {
     "name": "stdout",
     "output_type": "stream",
     "text": [
      "<class 'pandas.core.frame.DataFrame'>\n",
      "RangeIndex: 479 entries, 0 to 478\n",
      "Data columns (total 24 columns):\n",
      " #   Column      Non-Null Count  Dtype  \n",
      "---  ------      --------------  -----  \n",
      " 0   Dress_ID    479 non-null    float64\n",
      " 1   29-08-2013  479 non-null    int64  \n",
      " 2   31-08-2013  479 non-null    int64  \n",
      " 3   09-02-2013  479 non-null    int64  \n",
      " 4   09-04-2013  479 non-null    int64  \n",
      " 5   09-06-2013  479 non-null    int64  \n",
      " 6   09-08-2013  479 non-null    int64  \n",
      " 7   09-10-2013  479 non-null    int64  \n",
      " 8   09-12-2013  479 non-null    object \n",
      " 9   14-09-2013  479 non-null    object \n",
      " 10  16-09-2013  479 non-null    object \n",
      " 11  18-09-2013  479 non-null    object \n",
      " 12  20-09-2013  479 non-null    object \n",
      " 13  22-09-2013  479 non-null    object \n",
      " 14  24-09-2013  479 non-null    int64  \n",
      " 15  26-09-2013  257 non-null    float64\n",
      " 16  28-09-2013  479 non-null    int64  \n",
      " 17  30-09-2013  222 non-null    float64\n",
      " 18  10-02-2013  220 non-null    float64\n",
      " 19  10-04-2013  221 non-null    float64\n",
      " 20  10-06-2013  479 non-null    int64  \n",
      " 21  10-08-2013  224 non-null    float64\n",
      " 22  10-10-2013  224 non-null    float64\n",
      " 23  10-12-2013  479 non-null    int64  \n",
      "dtypes: float64(7), int64(11), object(6)\n",
      "memory usage: 89.9+ KB\n"
     ]
    }
   ],
   "source": [
    "# Print the data types information of inp1 i.e. \"Dress Sales\" data.\n",
    "inp0.info()"
   ]
  },
  {
   "cell_type": "code",
   "execution_count": 15,
   "metadata": {},
   "outputs": [],
   "source": [
    "# Do the required changes in the \"Dress Sales\" data set to get null values on string values.\n",
    "inp0.loc[inp0['09-12-2013']== 'Removed',\"09-12-2013\"] = np.NaN\n",
    "inp0.loc[inp0['14-09-2013']== 'removed',\"14-09-2013\"] = np.NaN\n",
    "inp0.loc[inp0['16-09-2013']== 'removed',\"16-09-2013\"] = np.NaN\n",
    "inp0.loc[inp0['18-09-2013']== 'removed',\"18-09-2013\"] = np.NaN\n",
    "inp0.loc[inp0['20-09-2013']== 'removed',\"20-09-2013\"] = np.NaN\n",
    "inp0.loc[inp0['22-09-2013']== 'Orders',\"22-09-2013\"] = np.NaN"
   ]
  },
  {
   "cell_type": "code",
   "execution_count": 16,
   "metadata": {},
   "outputs": [],
   "source": [
    "# Convert the object type columns in \"Dress Sales\" into float type of data type.\n",
    "inp0[\"09-12-2013\"]=inp0[\"09-12-2013\"].astype('float')\n",
    "inp0[\"14-09-2013\"]=inp0[\"14-09-2013\"].astype('float')\n",
    "inp0[\"16-09-2013\"]=inp0[\"16-09-2013\"].astype('float')\n",
    "inp0[\"18-09-2013\"]=inp0[\"18-09-2013\"].astype('float')\n",
    "inp0[\"20-09-2013\"]=inp0[\"20-09-2013\"].astype('float')\n",
    "inp0[\"22-09-2013\"]=inp0[\"22-09-2013\"].astype('float')"
   ]
  },
  {
   "cell_type": "code",
   "execution_count": 17,
   "metadata": {},
   "outputs": [
    {
     "data": {
      "text/plain": [
       "count     478.000000\n",
       "mean      345.853556\n",
       "std       626.203783\n",
       "min         0.000000\n",
       "25%        46.500000\n",
       "50%       148.000000\n",
       "75%       365.000000\n",
       "max      7115.000000\n",
       "Name: 16-09-2013, dtype: float64"
      ]
     },
     "execution_count": 17,
     "metadata": {},
     "output_type": "execute_result"
    }
   ],
   "source": [
    "inp0[\"16-09-2013\"].describe()"
   ]
  },
  {
   "cell_type": "markdown",
   "metadata": {},
   "source": [
    "When you see the null counts in “Dress Sales” dataset after performing all the operations that have been mentioned in jupyter notebook, you will find that there are some columns in “Dress Sales” data where there are more than 40% of missing values. Based on your understanding of dealing with missing values do the following steps."
   ]
  },
  {
   "cell_type": "code",
   "execution_count": 18,
   "metadata": {
    "scrolled": false
   },
   "outputs": [
    {
     "data": {
      "text/plain": [
       "Dress_ID       0.000000\n",
       "29-08-2013     0.000000\n",
       "31-08-2013     0.000000\n",
       "09-02-2013     0.000000\n",
       "09-04-2013     0.000000\n",
       "09-06-2013     0.000000\n",
       "09-08-2013     0.000000\n",
       "09-10-2013     0.000000\n",
       "09-12-2013     0.208768\n",
       "14-09-2013     0.208768\n",
       "16-09-2013     0.208768\n",
       "18-09-2013     0.208768\n",
       "20-09-2013     0.208768\n",
       "22-09-2013     0.208768\n",
       "24-09-2013     0.000000\n",
       "26-09-2013    46.346555\n",
       "28-09-2013     0.000000\n",
       "30-09-2013    53.653445\n",
       "10-02-2013    54.070981\n",
       "10-04-2013    53.862213\n",
       "10-06-2013     0.000000\n",
       "10-08-2013    53.235908\n",
       "10-10-2013    53.235908\n",
       "10-12-2013     0.000000\n",
       "dtype: float64"
      ]
     },
     "execution_count": 18,
     "metadata": {},
     "output_type": "execute_result"
    }
   ],
   "source": [
    "# Print the null percetange of each column of inp1.\n",
    "inp0.isnull().sum()/len(inp0.index)*100"
   ]
  },
  {
   "cell_type": "code",
   "execution_count": 19,
   "metadata": {},
   "outputs": [],
   "source": [
    "# Drop the columns in \"Dress Sales\" which have more than 40% of missing values.\n",
    "inp0= inp0.drop([\"26-09-2013\" ,\"30-09-2013\" , \"10-02-2013\" , \"10-04-2013\" ,\"10-08-2013\",\"10-10-2013\"],axis=1)\n"
   ]
  },
  {
   "cell_type": "code",
   "execution_count": 20,
   "metadata": {},
   "outputs": [
    {
     "name": "stdout",
     "output_type": "stream",
     "text": [
      "<class 'pandas.core.frame.DataFrame'>\n",
      "RangeIndex: 479 entries, 0 to 478\n",
      "Data columns (total 18 columns):\n",
      " #   Column      Non-Null Count  Dtype  \n",
      "---  ------      --------------  -----  \n",
      " 0   Dress_ID    479 non-null    float64\n",
      " 1   29-08-2013  479 non-null    int64  \n",
      " 2   31-08-2013  479 non-null    int64  \n",
      " 3   09-02-2013  479 non-null    int64  \n",
      " 4   09-04-2013  479 non-null    int64  \n",
      " 5   09-06-2013  479 non-null    int64  \n",
      " 6   09-08-2013  479 non-null    int64  \n",
      " 7   09-10-2013  479 non-null    int64  \n",
      " 8   09-12-2013  478 non-null    float64\n",
      " 9   14-09-2013  478 non-null    float64\n",
      " 10  16-09-2013  478 non-null    float64\n",
      " 11  18-09-2013  478 non-null    float64\n",
      " 12  20-09-2013  478 non-null    float64\n",
      " 13  22-09-2013  478 non-null    float64\n",
      " 14  24-09-2013  479 non-null    int64  \n",
      " 15  28-09-2013  479 non-null    int64  \n",
      " 16  10-06-2013  479 non-null    int64  \n",
      " 17  10-12-2013  479 non-null    int64  \n",
      "dtypes: float64(7), int64(11)\n",
      "memory usage: 67.5 KB\n"
     ]
    }
   ],
   "source": [
    "inp0.info()"
   ]
  },
  {
   "cell_type": "markdown",
   "metadata": {},
   "source": [
    "You should categorise the dates into seasons in “Dress Sales” data to simplify the analysis according to the following criteria:\n",
    "- June, July and August: Summer.\n",
    "- September, October and November: Autumn.\n",
    "- December, January and February: WInter.\n",
    "- March, April and May: Spring.\n",
    "\n",
    "\n"
   ]
  },
  {
   "cell_type": "code",
   "execution_count": 21,
   "metadata": {},
   "outputs": [
    {
     "data": {
      "text/html": [
       "<div>\n",
       "<style scoped>\n",
       "    .dataframe tbody tr th:only-of-type {\n",
       "        vertical-align: middle;\n",
       "    }\n",
       "\n",
       "    .dataframe tbody tr th {\n",
       "        vertical-align: top;\n",
       "    }\n",
       "\n",
       "    .dataframe thead th {\n",
       "        text-align: right;\n",
       "    }\n",
       "</style>\n",
       "<table border=\"1\" class=\"dataframe\">\n",
       "  <thead>\n",
       "    <tr style=\"text-align: right;\">\n",
       "      <th></th>\n",
       "      <th>Dress_ID</th>\n",
       "      <th>29-08-2013</th>\n",
       "      <th>31-08-2013</th>\n",
       "      <th>09-02-2013</th>\n",
       "      <th>09-04-2013</th>\n",
       "      <th>09-06-2013</th>\n",
       "      <th>09-08-2013</th>\n",
       "      <th>09-10-2013</th>\n",
       "      <th>09-12-2013</th>\n",
       "      <th>14-09-2013</th>\n",
       "      <th>16-09-2013</th>\n",
       "      <th>18-09-2013</th>\n",
       "      <th>20-09-2013</th>\n",
       "      <th>22-09-2013</th>\n",
       "      <th>24-09-2013</th>\n",
       "      <th>28-09-2013</th>\n",
       "      <th>10-06-2013</th>\n",
       "      <th>10-12-2013</th>\n",
       "    </tr>\n",
       "  </thead>\n",
       "  <tbody>\n",
       "    <tr>\n",
       "      <th>0</th>\n",
       "      <td>1.006033e+09</td>\n",
       "      <td>2114</td>\n",
       "      <td>2274</td>\n",
       "      <td>2491</td>\n",
       "      <td>2660</td>\n",
       "      <td>2727</td>\n",
       "      <td>2887</td>\n",
       "      <td>2930</td>\n",
       "      <td>3119.0</td>\n",
       "      <td>3204.0</td>\n",
       "      <td>3277.0</td>\n",
       "      <td>3321.0</td>\n",
       "      <td>3386.0</td>\n",
       "      <td>3479.0</td>\n",
       "      <td>3554</td>\n",
       "      <td>3706</td>\n",
       "      <td>3897</td>\n",
       "      <td>4048</td>\n",
       "    </tr>\n",
       "    <tr>\n",
       "      <th>1</th>\n",
       "      <td>1.212192e+09</td>\n",
       "      <td>151</td>\n",
       "      <td>275</td>\n",
       "      <td>570</td>\n",
       "      <td>750</td>\n",
       "      <td>813</td>\n",
       "      <td>1066</td>\n",
       "      <td>1164</td>\n",
       "      <td>1558.0</td>\n",
       "      <td>1756.0</td>\n",
       "      <td>1878.0</td>\n",
       "      <td>1985.0</td>\n",
       "      <td>2106.0</td>\n",
       "      <td>2454.0</td>\n",
       "      <td>2710</td>\n",
       "      <td>3258</td>\n",
       "      <td>3911</td>\n",
       "      <td>4277</td>\n",
       "    </tr>\n",
       "    <tr>\n",
       "      <th>2</th>\n",
       "      <td>1.190381e+09</td>\n",
       "      <td>6</td>\n",
       "      <td>7</td>\n",
       "      <td>7</td>\n",
       "      <td>7</td>\n",
       "      <td>8</td>\n",
       "      <td>8</td>\n",
       "      <td>9</td>\n",
       "      <td>10.0</td>\n",
       "      <td>10.0</td>\n",
       "      <td>10.0</td>\n",
       "      <td>10.0</td>\n",
       "      <td>10.0</td>\n",
       "      <td>11.0</td>\n",
       "      <td>11</td>\n",
       "      <td>11</td>\n",
       "      <td>11</td>\n",
       "      <td>11</td>\n",
       "    </tr>\n",
       "    <tr>\n",
       "      <th>3</th>\n",
       "      <td>9.660060e+08</td>\n",
       "      <td>1005</td>\n",
       "      <td>1128</td>\n",
       "      <td>1326</td>\n",
       "      <td>1455</td>\n",
       "      <td>1507</td>\n",
       "      <td>1621</td>\n",
       "      <td>1637</td>\n",
       "      <td>1723.0</td>\n",
       "      <td>1746.0</td>\n",
       "      <td>1783.0</td>\n",
       "      <td>1796.0</td>\n",
       "      <td>1812.0</td>\n",
       "      <td>1845.0</td>\n",
       "      <td>1878</td>\n",
       "      <td>1914</td>\n",
       "      <td>1952</td>\n",
       "      <td>1963</td>\n",
       "    </tr>\n",
       "    <tr>\n",
       "      <th>4</th>\n",
       "      <td>8.763395e+08</td>\n",
       "      <td>996</td>\n",
       "      <td>1175</td>\n",
       "      <td>1304</td>\n",
       "      <td>1396</td>\n",
       "      <td>1432</td>\n",
       "      <td>1559</td>\n",
       "      <td>1570</td>\n",
       "      <td>1638.0</td>\n",
       "      <td>1655.0</td>\n",
       "      <td>1681.0</td>\n",
       "      <td>1743.0</td>\n",
       "      <td>1824.0</td>\n",
       "      <td>1919.0</td>\n",
       "      <td>2032</td>\n",
       "      <td>2252</td>\n",
       "      <td>2544</td>\n",
       "      <td>2736</td>\n",
       "    </tr>\n",
       "  </tbody>\n",
       "</table>\n",
       "</div>"
      ],
      "text/plain": [
       "       Dress_ID  29-08-2013  31-08-2013  09-02-2013  09-04-2013  09-06-2013  \\\n",
       "0  1.006033e+09        2114        2274        2491        2660        2727   \n",
       "1  1.212192e+09         151         275         570         750         813   \n",
       "2  1.190381e+09           6           7           7           7           8   \n",
       "3  9.660060e+08        1005        1128        1326        1455        1507   \n",
       "4  8.763395e+08         996        1175        1304        1396        1432   \n",
       "\n",
       "   09-08-2013  09-10-2013  09-12-2013  14-09-2013  16-09-2013  18-09-2013  \\\n",
       "0        2887        2930      3119.0      3204.0      3277.0      3321.0   \n",
       "1        1066        1164      1558.0      1756.0      1878.0      1985.0   \n",
       "2           8           9        10.0        10.0        10.0        10.0   \n",
       "3        1621        1637      1723.0      1746.0      1783.0      1796.0   \n",
       "4        1559        1570      1638.0      1655.0      1681.0      1743.0   \n",
       "\n",
       "   20-09-2013  22-09-2013  24-09-2013  28-09-2013  10-06-2013  10-12-2013  \n",
       "0      3386.0      3479.0        3554        3706        3897        4048  \n",
       "1      2106.0      2454.0        2710        3258        3911        4277  \n",
       "2        10.0        11.0          11          11          11          11  \n",
       "3      1812.0      1845.0        1878        1914        1952        1963  \n",
       "4      1824.0      1919.0        2032        2252        2544        2736  "
      ]
     },
     "execution_count": 21,
     "metadata": {},
     "output_type": "execute_result"
    }
   ],
   "source": [
    "inp0.head()"
   ]
  },
  {
   "cell_type": "code",
   "execution_count": 22,
   "metadata": {},
   "outputs": [],
   "source": [
    "# Create the four seasons columns in inp1, according to the above criteria.\n",
    "inp0[\"Summer\"] = inp0['09-06-2013'] + inp0['10-06-2013'] + inp0['29-08-2013'] + inp0['31-08-2013'] + inp0['09-08-2013']\n",
    "inp0['Autumn'] = inp0['09-10-2013'] + inp0['14-09-2013'] + inp0['16-09-2013'] + inp0['18-09-2013'] + inp0['20-09-2013'] + inp0['22-09-2013'] + inp0['24-09-2013'] + inp0['28-09-2013']\n",
    "inp0['Winter'] = inp0['09-12-2013'] + inp0['10-12-2013'] + inp0['09-02-2013']\n",
    "inp0['Spring'] = inp0['09-04-2013']"
   ]
  },
  {
   "cell_type": "code",
   "execution_count": 23,
   "metadata": {},
   "outputs": [
    {
     "data": {
      "text/html": [
       "<div>\n",
       "<style scoped>\n",
       "    .dataframe tbody tr th:only-of-type {\n",
       "        vertical-align: middle;\n",
       "    }\n",
       "\n",
       "    .dataframe tbody tr th {\n",
       "        vertical-align: top;\n",
       "    }\n",
       "\n",
       "    .dataframe thead th {\n",
       "        text-align: right;\n",
       "    }\n",
       "</style>\n",
       "<table border=\"1\" class=\"dataframe\">\n",
       "  <thead>\n",
       "    <tr style=\"text-align: right;\">\n",
       "      <th></th>\n",
       "      <th>Dress_ID</th>\n",
       "      <th>29-08-2013</th>\n",
       "      <th>31-08-2013</th>\n",
       "      <th>09-02-2013</th>\n",
       "      <th>09-04-2013</th>\n",
       "      <th>09-06-2013</th>\n",
       "      <th>09-08-2013</th>\n",
       "      <th>09-10-2013</th>\n",
       "      <th>09-12-2013</th>\n",
       "      <th>14-09-2013</th>\n",
       "      <th>...</th>\n",
       "      <th>20-09-2013</th>\n",
       "      <th>22-09-2013</th>\n",
       "      <th>24-09-2013</th>\n",
       "      <th>28-09-2013</th>\n",
       "      <th>10-06-2013</th>\n",
       "      <th>10-12-2013</th>\n",
       "      <th>Summer</th>\n",
       "      <th>Autumn</th>\n",
       "      <th>Winter</th>\n",
       "      <th>Spring</th>\n",
       "    </tr>\n",
       "  </thead>\n",
       "  <tbody>\n",
       "    <tr>\n",
       "      <th>0</th>\n",
       "      <td>1.006033e+09</td>\n",
       "      <td>2114</td>\n",
       "      <td>2274</td>\n",
       "      <td>2491</td>\n",
       "      <td>2660</td>\n",
       "      <td>2727</td>\n",
       "      <td>2887</td>\n",
       "      <td>2930</td>\n",
       "      <td>3119.0</td>\n",
       "      <td>3204.0</td>\n",
       "      <td>...</td>\n",
       "      <td>3386.0</td>\n",
       "      <td>3479.0</td>\n",
       "      <td>3554</td>\n",
       "      <td>3706</td>\n",
       "      <td>3897</td>\n",
       "      <td>4048</td>\n",
       "      <td>13899</td>\n",
       "      <td>26857.0</td>\n",
       "      <td>9658.0</td>\n",
       "      <td>2660</td>\n",
       "    </tr>\n",
       "    <tr>\n",
       "      <th>1</th>\n",
       "      <td>1.212192e+09</td>\n",
       "      <td>151</td>\n",
       "      <td>275</td>\n",
       "      <td>570</td>\n",
       "      <td>750</td>\n",
       "      <td>813</td>\n",
       "      <td>1066</td>\n",
       "      <td>1164</td>\n",
       "      <td>1558.0</td>\n",
       "      <td>1756.0</td>\n",
       "      <td>...</td>\n",
       "      <td>2106.0</td>\n",
       "      <td>2454.0</td>\n",
       "      <td>2710</td>\n",
       "      <td>3258</td>\n",
       "      <td>3911</td>\n",
       "      <td>4277</td>\n",
       "      <td>6216</td>\n",
       "      <td>17311.0</td>\n",
       "      <td>6405.0</td>\n",
       "      <td>750</td>\n",
       "    </tr>\n",
       "    <tr>\n",
       "      <th>2</th>\n",
       "      <td>1.190381e+09</td>\n",
       "      <td>6</td>\n",
       "      <td>7</td>\n",
       "      <td>7</td>\n",
       "      <td>7</td>\n",
       "      <td>8</td>\n",
       "      <td>8</td>\n",
       "      <td>9</td>\n",
       "      <td>10.0</td>\n",
       "      <td>10.0</td>\n",
       "      <td>...</td>\n",
       "      <td>10.0</td>\n",
       "      <td>11.0</td>\n",
       "      <td>11</td>\n",
       "      <td>11</td>\n",
       "      <td>11</td>\n",
       "      <td>11</td>\n",
       "      <td>40</td>\n",
       "      <td>82.0</td>\n",
       "      <td>28.0</td>\n",
       "      <td>7</td>\n",
       "    </tr>\n",
       "    <tr>\n",
       "      <th>3</th>\n",
       "      <td>9.660060e+08</td>\n",
       "      <td>1005</td>\n",
       "      <td>1128</td>\n",
       "      <td>1326</td>\n",
       "      <td>1455</td>\n",
       "      <td>1507</td>\n",
       "      <td>1621</td>\n",
       "      <td>1637</td>\n",
       "      <td>1723.0</td>\n",
       "      <td>1746.0</td>\n",
       "      <td>...</td>\n",
       "      <td>1812.0</td>\n",
       "      <td>1845.0</td>\n",
       "      <td>1878</td>\n",
       "      <td>1914</td>\n",
       "      <td>1952</td>\n",
       "      <td>1963</td>\n",
       "      <td>7213</td>\n",
       "      <td>14411.0</td>\n",
       "      <td>5012.0</td>\n",
       "      <td>1455</td>\n",
       "    </tr>\n",
       "    <tr>\n",
       "      <th>4</th>\n",
       "      <td>8.763395e+08</td>\n",
       "      <td>996</td>\n",
       "      <td>1175</td>\n",
       "      <td>1304</td>\n",
       "      <td>1396</td>\n",
       "      <td>1432</td>\n",
       "      <td>1559</td>\n",
       "      <td>1570</td>\n",
       "      <td>1638.0</td>\n",
       "      <td>1655.0</td>\n",
       "      <td>...</td>\n",
       "      <td>1824.0</td>\n",
       "      <td>1919.0</td>\n",
       "      <td>2032</td>\n",
       "      <td>2252</td>\n",
       "      <td>2544</td>\n",
       "      <td>2736</td>\n",
       "      <td>7706</td>\n",
       "      <td>14676.0</td>\n",
       "      <td>5678.0</td>\n",
       "      <td>1396</td>\n",
       "    </tr>\n",
       "  </tbody>\n",
       "</table>\n",
       "<p>5 rows × 22 columns</p>\n",
       "</div>"
      ],
      "text/plain": [
       "       Dress_ID  29-08-2013  31-08-2013  09-02-2013  09-04-2013  09-06-2013  \\\n",
       "0  1.006033e+09        2114        2274        2491        2660        2727   \n",
       "1  1.212192e+09         151         275         570         750         813   \n",
       "2  1.190381e+09           6           7           7           7           8   \n",
       "3  9.660060e+08        1005        1128        1326        1455        1507   \n",
       "4  8.763395e+08         996        1175        1304        1396        1432   \n",
       "\n",
       "   09-08-2013  09-10-2013  09-12-2013  14-09-2013  ...  20-09-2013  \\\n",
       "0        2887        2930      3119.0      3204.0  ...      3386.0   \n",
       "1        1066        1164      1558.0      1756.0  ...      2106.0   \n",
       "2           8           9        10.0        10.0  ...        10.0   \n",
       "3        1621        1637      1723.0      1746.0  ...      1812.0   \n",
       "4        1559        1570      1638.0      1655.0  ...      1824.0   \n",
       "\n",
       "   22-09-2013  24-09-2013  28-09-2013  10-06-2013  10-12-2013  Summer  \\\n",
       "0      3479.0        3554        3706        3897        4048   13899   \n",
       "1      2454.0        2710        3258        3911        4277    6216   \n",
       "2        11.0          11          11          11          11      40   \n",
       "3      1845.0        1878        1914        1952        1963    7213   \n",
       "4      1919.0        2032        2252        2544        2736    7706   \n",
       "\n",
       "    Autumn  Winter  Spring  \n",
       "0  26857.0  9658.0    2660  \n",
       "1  17311.0  6405.0     750  \n",
       "2     82.0    28.0       7  \n",
       "3  14411.0  5012.0    1455  \n",
       "4  14676.0  5678.0    1396  \n",
       "\n",
       "[5 rows x 22 columns]"
      ]
     },
     "execution_count": 23,
     "metadata": {},
     "output_type": "execute_result"
    }
   ],
   "source": [
    "inp0.head()"
   ]
  },
  {
   "cell_type": "code",
   "execution_count": 24,
   "metadata": {},
   "outputs": [
    {
     "data": {
      "text/plain": [
       "Summer     691907.0\n",
       "Autumn    1353543.0\n",
       "Winter     473640.0\n",
       "Spring     143600.0\n",
       "dtype: float64"
      ]
     },
     "execution_count": 24,
     "metadata": {},
     "output_type": "execute_result"
    }
   ],
   "source": [
    "# calculate the sum of sales in each seasons in inp1 i.e. \"Dress Sales\".\n",
    "inp0[[\"Summer\",\"Autumn\",\"Winter\",\"Spring\"]].sum()\n"
   ]
  },
  {
   "cell_type": "markdown",
   "metadata": {},
   "source": [
    "Now let's merge inp1 with inp0 with left join manner, so that the information of inp0 should remain intact."
   ]
  },
  {
   "cell_type": "code",
   "execution_count": 25,
   "metadata": {},
   "outputs": [
    {
     "data": {
      "text/html": [
       "<div>\n",
       "<style scoped>\n",
       "    .dataframe tbody tr th:only-of-type {\n",
       "        vertical-align: middle;\n",
       "    }\n",
       "\n",
       "    .dataframe tbody tr th {\n",
       "        vertical-align: top;\n",
       "    }\n",
       "\n",
       "    .dataframe thead th {\n",
       "        text-align: right;\n",
       "    }\n",
       "</style>\n",
       "<table border=\"1\" class=\"dataframe\">\n",
       "  <thead>\n",
       "    <tr style=\"text-align: right;\">\n",
       "      <th></th>\n",
       "      <th>Dress_ID</th>\n",
       "      <th>Style</th>\n",
       "      <th>Price</th>\n",
       "      <th>Rating</th>\n",
       "      <th>Size</th>\n",
       "      <th>Season</th>\n",
       "      <th>NeckLine</th>\n",
       "      <th>SleeveLength</th>\n",
       "      <th>Material</th>\n",
       "      <th>FabricType</th>\n",
       "      <th>...</th>\n",
       "      <th>20-09-2013</th>\n",
       "      <th>22-09-2013</th>\n",
       "      <th>24-09-2013</th>\n",
       "      <th>28-09-2013</th>\n",
       "      <th>10-06-2013</th>\n",
       "      <th>10-12-2013</th>\n",
       "      <th>Summer</th>\n",
       "      <th>Autumn</th>\n",
       "      <th>Winter</th>\n",
       "      <th>Spring</th>\n",
       "    </tr>\n",
       "  </thead>\n",
       "  <tbody>\n",
       "    <tr>\n",
       "      <th>0</th>\n",
       "      <td>1006032852</td>\n",
       "      <td>Sexy</td>\n",
       "      <td>Low</td>\n",
       "      <td>4.6</td>\n",
       "      <td>Medium</td>\n",
       "      <td>Summer</td>\n",
       "      <td>o-neck</td>\n",
       "      <td>sleevless</td>\n",
       "      <td>NaN</td>\n",
       "      <td>chiffon</td>\n",
       "      <td>...</td>\n",
       "      <td>3386.0</td>\n",
       "      <td>3479.0</td>\n",
       "      <td>3554</td>\n",
       "      <td>3706</td>\n",
       "      <td>3897</td>\n",
       "      <td>4048</td>\n",
       "      <td>13899</td>\n",
       "      <td>26857.0</td>\n",
       "      <td>9658.0</td>\n",
       "      <td>2660</td>\n",
       "    </tr>\n",
       "    <tr>\n",
       "      <th>1</th>\n",
       "      <td>1212192089</td>\n",
       "      <td>Casual</td>\n",
       "      <td>Low</td>\n",
       "      <td>0.0</td>\n",
       "      <td>Large</td>\n",
       "      <td>Summer</td>\n",
       "      <td>o-neck</td>\n",
       "      <td>Petal</td>\n",
       "      <td>microfiber</td>\n",
       "      <td>NaN</td>\n",
       "      <td>...</td>\n",
       "      <td>2106.0</td>\n",
       "      <td>2454.0</td>\n",
       "      <td>2710</td>\n",
       "      <td>3258</td>\n",
       "      <td>3911</td>\n",
       "      <td>4277</td>\n",
       "      <td>6216</td>\n",
       "      <td>17311.0</td>\n",
       "      <td>6405.0</td>\n",
       "      <td>750</td>\n",
       "    </tr>\n",
       "    <tr>\n",
       "      <th>2</th>\n",
       "      <td>1190380701</td>\n",
       "      <td>vintage</td>\n",
       "      <td>High</td>\n",
       "      <td>0.0</td>\n",
       "      <td>Large</td>\n",
       "      <td>Automn</td>\n",
       "      <td>o-neck</td>\n",
       "      <td>full</td>\n",
       "      <td>polyster</td>\n",
       "      <td>NaN</td>\n",
       "      <td>...</td>\n",
       "      <td>10.0</td>\n",
       "      <td>11.0</td>\n",
       "      <td>11</td>\n",
       "      <td>11</td>\n",
       "      <td>11</td>\n",
       "      <td>11</td>\n",
       "      <td>40</td>\n",
       "      <td>82.0</td>\n",
       "      <td>28.0</td>\n",
       "      <td>7</td>\n",
       "    </tr>\n",
       "    <tr>\n",
       "      <th>3</th>\n",
       "      <td>966005983</td>\n",
       "      <td>Brief</td>\n",
       "      <td>Average</td>\n",
       "      <td>4.6</td>\n",
       "      <td>Large</td>\n",
       "      <td>Spring</td>\n",
       "      <td>o-neck</td>\n",
       "      <td>full</td>\n",
       "      <td>silk</td>\n",
       "      <td>chiffon</td>\n",
       "      <td>...</td>\n",
       "      <td>1812.0</td>\n",
       "      <td>1845.0</td>\n",
       "      <td>1878</td>\n",
       "      <td>1914</td>\n",
       "      <td>1952</td>\n",
       "      <td>1963</td>\n",
       "      <td>7213</td>\n",
       "      <td>14411.0</td>\n",
       "      <td>5012.0</td>\n",
       "      <td>1455</td>\n",
       "    </tr>\n",
       "    <tr>\n",
       "      <th>4</th>\n",
       "      <td>876339541</td>\n",
       "      <td>cute</td>\n",
       "      <td>Low</td>\n",
       "      <td>4.5</td>\n",
       "      <td>Medium</td>\n",
       "      <td>Summer</td>\n",
       "      <td>o-neck</td>\n",
       "      <td>butterfly</td>\n",
       "      <td>chiffonfabric</td>\n",
       "      <td>chiffon</td>\n",
       "      <td>...</td>\n",
       "      <td>1824.0</td>\n",
       "      <td>1919.0</td>\n",
       "      <td>2032</td>\n",
       "      <td>2252</td>\n",
       "      <td>2544</td>\n",
       "      <td>2736</td>\n",
       "      <td>7706</td>\n",
       "      <td>14676.0</td>\n",
       "      <td>5678.0</td>\n",
       "      <td>1396</td>\n",
       "    </tr>\n",
       "  </tbody>\n",
       "</table>\n",
       "<p>5 rows × 34 columns</p>\n",
       "</div>"
      ],
      "text/plain": [
       "     Dress_ID    Style    Price  Rating    Size  Season NeckLine SleeveLength  \\\n",
       "0  1006032852     Sexy      Low     4.6  Medium  Summer   o-neck    sleevless   \n",
       "1  1212192089   Casual      Low     0.0   Large  Summer   o-neck        Petal   \n",
       "2  1190380701  vintage     High     0.0   Large  Automn   o-neck         full   \n",
       "3   966005983    Brief  Average     4.6   Large  Spring   o-neck         full   \n",
       "4   876339541     cute      Low     4.5  Medium  Summer   o-neck    butterfly   \n",
       "\n",
       "        Material FabricType  ... 20-09-2013 22-09-2013  24-09-2013  \\\n",
       "0            NaN    chiffon  ...     3386.0     3479.0        3554   \n",
       "1     microfiber        NaN  ...     2106.0     2454.0        2710   \n",
       "2       polyster        NaN  ...       10.0       11.0          11   \n",
       "3           silk    chiffon  ...     1812.0     1845.0        1878   \n",
       "4  chiffonfabric    chiffon  ...     1824.0     1919.0        2032   \n",
       "\n",
       "   28-09-2013  10-06-2013  10-12-2013  Summer   Autumn  Winter  Spring  \n",
       "0        3706        3897        4048   13899  26857.0  9658.0    2660  \n",
       "1        3258        3911        4277    6216  17311.0  6405.0     750  \n",
       "2          11          11          11      40     82.0    28.0       7  \n",
       "3        1914        1952        1963    7213  14411.0  5012.0    1455  \n",
       "4        2252        2544        2736    7706  14676.0  5678.0    1396  \n",
       "\n",
       "[5 rows x 34 columns]"
      ]
     },
     "execution_count": 25,
     "metadata": {},
     "output_type": "execute_result"
    }
   ],
   "source": [
    "# Merge inp0 with inp1 into inp0. this is also called left merge.\n",
    "inp1 = pd.merge(left=inp1,right=inp0, how='left', left_on='Dress_ID', right_on='Dress_ID')\n",
    "inp1.head()"
   ]
  },
  {
   "cell_type": "code",
   "execution_count": 26,
   "metadata": {},
   "outputs": [
    {
     "name": "stderr",
     "output_type": "stream",
     "text": [
      "C:\\Users\\chand\\AppData\\Local\\Temp\\ipykernel_12268\\2592419998.py:2: UserWarning: Parsing dates in DD/MM/YYYY format when dayfirst=False (the default) was specified. This may lead to inconsistently parsed dates! Specify a format to ensure consistent parsing.\n",
      "  inp1.drop(inp1.loc[:,'29-08-2013':'10-12-2013'].columns,axis=1,inplace=True)\n"
     ]
    }
   ],
   "source": [
    "# Now Drop the Date columns from inp0 as it is already combined into four seasons.\n",
    "inp1.drop(inp1.loc[:,'29-08-2013':'10-12-2013'].columns,axis=1,inplace=True)"
   ]
  },
  {
   "cell_type": "code",
   "execution_count": 27,
   "metadata": {},
   "outputs": [
    {
     "data": {
      "text/html": [
       "<div>\n",
       "<style scoped>\n",
       "    .dataframe tbody tr th:only-of-type {\n",
       "        vertical-align: middle;\n",
       "    }\n",
       "\n",
       "    .dataframe tbody tr th {\n",
       "        vertical-align: top;\n",
       "    }\n",
       "\n",
       "    .dataframe thead th {\n",
       "        text-align: right;\n",
       "    }\n",
       "</style>\n",
       "<table border=\"1\" class=\"dataframe\">\n",
       "  <thead>\n",
       "    <tr style=\"text-align: right;\">\n",
       "      <th></th>\n",
       "      <th>Dress_ID</th>\n",
       "      <th>Style</th>\n",
       "      <th>Price</th>\n",
       "      <th>Rating</th>\n",
       "      <th>Size</th>\n",
       "      <th>Season</th>\n",
       "      <th>NeckLine</th>\n",
       "      <th>SleeveLength</th>\n",
       "      <th>Material</th>\n",
       "      <th>FabricType</th>\n",
       "      <th>Decoration</th>\n",
       "      <th>Pattern Type</th>\n",
       "      <th>Recommendation</th>\n",
       "      <th>Summer</th>\n",
       "      <th>Autumn</th>\n",
       "      <th>Winter</th>\n",
       "      <th>Spring</th>\n",
       "    </tr>\n",
       "  </thead>\n",
       "  <tbody>\n",
       "    <tr>\n",
       "      <th>0</th>\n",
       "      <td>1006032852</td>\n",
       "      <td>Sexy</td>\n",
       "      <td>Low</td>\n",
       "      <td>4.6</td>\n",
       "      <td>Medium</td>\n",
       "      <td>Summer</td>\n",
       "      <td>o-neck</td>\n",
       "      <td>sleevless</td>\n",
       "      <td>NaN</td>\n",
       "      <td>chiffon</td>\n",
       "      <td>ruffles</td>\n",
       "      <td>animal</td>\n",
       "      <td>1</td>\n",
       "      <td>13899</td>\n",
       "      <td>26857.0</td>\n",
       "      <td>9658.0</td>\n",
       "      <td>2660</td>\n",
       "    </tr>\n",
       "    <tr>\n",
       "      <th>1</th>\n",
       "      <td>1212192089</td>\n",
       "      <td>Casual</td>\n",
       "      <td>Low</td>\n",
       "      <td>0.0</td>\n",
       "      <td>Large</td>\n",
       "      <td>Summer</td>\n",
       "      <td>o-neck</td>\n",
       "      <td>Petal</td>\n",
       "      <td>microfiber</td>\n",
       "      <td>NaN</td>\n",
       "      <td>ruffles</td>\n",
       "      <td>animal</td>\n",
       "      <td>0</td>\n",
       "      <td>6216</td>\n",
       "      <td>17311.0</td>\n",
       "      <td>6405.0</td>\n",
       "      <td>750</td>\n",
       "    </tr>\n",
       "    <tr>\n",
       "      <th>2</th>\n",
       "      <td>1190380701</td>\n",
       "      <td>vintage</td>\n",
       "      <td>High</td>\n",
       "      <td>0.0</td>\n",
       "      <td>Large</td>\n",
       "      <td>Automn</td>\n",
       "      <td>o-neck</td>\n",
       "      <td>full</td>\n",
       "      <td>polyster</td>\n",
       "      <td>NaN</td>\n",
       "      <td>NaN</td>\n",
       "      <td>print</td>\n",
       "      <td>0</td>\n",
       "      <td>40</td>\n",
       "      <td>82.0</td>\n",
       "      <td>28.0</td>\n",
       "      <td>7</td>\n",
       "    </tr>\n",
       "    <tr>\n",
       "      <th>3</th>\n",
       "      <td>966005983</td>\n",
       "      <td>Brief</td>\n",
       "      <td>Average</td>\n",
       "      <td>4.6</td>\n",
       "      <td>Large</td>\n",
       "      <td>Spring</td>\n",
       "      <td>o-neck</td>\n",
       "      <td>full</td>\n",
       "      <td>silk</td>\n",
       "      <td>chiffon</td>\n",
       "      <td>embroidary</td>\n",
       "      <td>print</td>\n",
       "      <td>1</td>\n",
       "      <td>7213</td>\n",
       "      <td>14411.0</td>\n",
       "      <td>5012.0</td>\n",
       "      <td>1455</td>\n",
       "    </tr>\n",
       "    <tr>\n",
       "      <th>4</th>\n",
       "      <td>876339541</td>\n",
       "      <td>cute</td>\n",
       "      <td>Low</td>\n",
       "      <td>4.5</td>\n",
       "      <td>Medium</td>\n",
       "      <td>Summer</td>\n",
       "      <td>o-neck</td>\n",
       "      <td>butterfly</td>\n",
       "      <td>chiffonfabric</td>\n",
       "      <td>chiffon</td>\n",
       "      <td>bow</td>\n",
       "      <td>dot</td>\n",
       "      <td>0</td>\n",
       "      <td>7706</td>\n",
       "      <td>14676.0</td>\n",
       "      <td>5678.0</td>\n",
       "      <td>1396</td>\n",
       "    </tr>\n",
       "  </tbody>\n",
       "</table>\n",
       "</div>"
      ],
      "text/plain": [
       "     Dress_ID    Style    Price  Rating    Size  Season NeckLine SleeveLength  \\\n",
       "0  1006032852     Sexy      Low     4.6  Medium  Summer   o-neck    sleevless   \n",
       "1  1212192089   Casual      Low     0.0   Large  Summer   o-neck        Petal   \n",
       "2  1190380701  vintage     High     0.0   Large  Automn   o-neck         full   \n",
       "3   966005983    Brief  Average     4.6   Large  Spring   o-neck         full   \n",
       "4   876339541     cute      Low     4.5  Medium  Summer   o-neck    butterfly   \n",
       "\n",
       "        Material FabricType  Decoration Pattern Type  Recommendation  Summer  \\\n",
       "0            NaN    chiffon     ruffles       animal               1   13899   \n",
       "1     microfiber        NaN     ruffles       animal               0    6216   \n",
       "2       polyster        NaN         NaN        print               0      40   \n",
       "3           silk    chiffon  embroidary        print               1    7213   \n",
       "4  chiffonfabric    chiffon         bow          dot               0    7706   \n",
       "\n",
       "    Autumn  Winter  Spring  \n",
       "0  26857.0  9658.0    2660  \n",
       "1  17311.0  6405.0     750  \n",
       "2     82.0    28.0       7  \n",
       "3  14411.0  5012.0    1455  \n",
       "4  14676.0  5678.0    1396  "
      ]
     },
     "execution_count": 27,
     "metadata": {},
     "output_type": "execute_result"
    }
   ],
   "source": [
    "inp1.head()"
   ]
  },
  {
   "cell_type": "markdown",
   "metadata": {},
   "source": [
    "Print the null count of inp0 to get the idea about the missing values in data set."
   ]
  },
  {
   "cell_type": "code",
   "execution_count": 28,
   "metadata": {},
   "outputs": [
    {
     "data": {
      "text/plain": [
       "Dress_ID            0\n",
       "Style               0\n",
       "Price               2\n",
       "Rating              0\n",
       "Size                0\n",
       "Season              2\n",
       "NeckLine            3\n",
       "SleeveLength        2\n",
       "Material          119\n",
       "FabricType        256\n",
       "Decoration        224\n",
       "Pattern Type      102\n",
       "Recommendation      0\n",
       "Summer              0\n",
       "Autumn              2\n",
       "Winter              1\n",
       "Spring              0\n",
       "dtype: int64"
      ]
     },
     "execution_count": 28,
     "metadata": {},
     "output_type": "execute_result"
    }
   ],
   "source": [
    "# Print the null count of each columns in inp0 dataframe i.e. combined data frame of inp0 and inp1 without date columns.\n",
    "inp1.isnull().sum()"
   ]
  },
  {
   "cell_type": "markdown",
   "metadata": {},
   "source": [
    "You can see that there are two types of variables one with a large number of missing values and another is very less number of missing values. These two columns can be categorized as:\n",
    "\n",
    "Type-1: Missing values are very less (around 2 or 3 missing values): Price, Season, NeckLine, SleeveLength, Winter and Autumn. \n",
    "\n",
    "Type-2: Missing values are large in numbers (more than 15%): Material, FabricType, Decoration and Pattern Type.\n",
    "\n"
   ]
  },
  {
   "cell_type": "code",
   "execution_count": 29,
   "metadata": {},
   "outputs": [],
   "source": [
    "# Deal with the missing values of Type-1 columns: Price, Season, NeckLine, SleeveLength, Winter and Autumn.\n",
    "inp1 = inp1[~inp1.Price.isnull()]\n",
    "\n",
    "inp1 = inp1[~inp1.Season.isnull()]\n",
    "\n",
    "inp1 = inp1[~inp1.NeckLine.isnull()]\n",
    "\n",
    "inp1 = inp1[~inp1.SleeveLength.isnull()]\n",
    "\n",
    "inp1 = inp1[~inp1.Winter.isnull()]\n",
    "\n",
    "inp1 = inp1[~inp1.Autumn.isnull()]"
   ]
  },
  {
   "cell_type": "code",
   "execution_count": 30,
   "metadata": {},
   "outputs": [],
   "source": [
    "# Deal with the missing values for Type-2 columns: Material, FabricType, Decoration and Pattern Type.\n",
    "inp1.Material= inp1.Material.replace(np.nan, \"Missing\")\n",
    "\n",
    "inp1.FabricType= inp1.FabricType.replace(np.nan, \"Missing\")\n",
    "\n",
    "inp1.Decoration= inp1.Decoration.replace(np.nan, \"Missing\")\n",
    "\n",
    "inp1['Pattern Type']= inp1['Pattern Type'].replace(np.nan, \"Missing\")"
   ]
  },
  {
   "cell_type": "markdown",
   "metadata": {},
   "source": [
    "### Standardise value "
   ]
  },
  {
   "cell_type": "markdown",
   "metadata": {},
   "source": [
    "In the given dataset, there are certain discrepancies with the categorical names such as irregular spellings. Choose the correct option of columns with irregular categories and update them.\n",
    " \n",
    "- Season, NeckLine\n",
    "- Price, Material\n",
    "- fabricType, Decoration\n",
    "- Season, SleeveLength\n"
   ]
  },
  {
   "cell_type": "code",
   "execution_count": 31,
   "metadata": {},
   "outputs": [
    {
     "data": {
      "text/plain": [
       "array(['Summer', 'Autumn', 'Spring', 'Winter', 'spring'], dtype=object)"
      ]
     },
     "execution_count": 31,
     "metadata": {},
     "output_type": "execute_result"
    }
   ],
   "source": [
    "#correcting the spellings.\n",
    "inp1.Season.replace(['Automn','winter'], ['Autumn','Winter'], inplace=True)\n",
    "inp1.Season.unique()"
   ]
  },
  {
   "cell_type": "code",
   "execution_count": 32,
   "metadata": {},
   "outputs": [
    {
     "data": {
      "text/plain": [
       "array(['sleeve less', 'Petal', 'full sleeves', 'butterfly', 'short',\n",
       "       'three quater', 'half sleeves', 'cap-sleeves', 'turndowncollor',\n",
       "       'threequater', 'capsleeves', 'sleeveless', 'sleeevless', 'half',\n",
       "       'urndowncollor', 'sleveless'], dtype=object)"
      ]
     },
     "execution_count": 32,
     "metadata": {},
     "output_type": "execute_result"
    }
   ],
   "source": [
    "#correcting the Spellings.\n",
    "inp1.SleeveLength.replace(['full','sleevless', 'halfsleeve',\n",
    "       'threequarter', 'thressqatar'],[\"full sleeves\",\"sleeve less\",\"half sleeves\",\"three quater\",\"three quater\"],inplace=True)\n",
    "inp1.SleeveLength.unique()"
   ]
  },
  {
   "cell_type": "code",
   "execution_count": 33,
   "metadata": {},
   "outputs": [
    {
     "data": {
      "text/plain": [
       "array(['Missing', 'microfiber', 'polyster', 'silk', 'chiffonfabric',\n",
       "       'cotton', 'nylon', 'other', 'milksilk', 'linen', 'rayon', 'lycra',\n",
       "       'mix', 'acrylic', 'spandex', 'lace', 'modal', 'cashmere', 'viscos',\n",
       "       'sill', 'wool', 'model', 'shiffon'], dtype=object)"
      ]
     },
     "execution_count": 33,
     "metadata": {},
     "output_type": "execute_result"
    }
   ],
   "source": [
    "inp1.Material.unique()"
   ]
  },
  {
   "cell_type": "code",
   "execution_count": 34,
   "metadata": {},
   "outputs": [
    {
     "data": {
      "text/plain": [
       "array(['sleeve less', 'Petal', 'full sleeves', 'butterfly', 'short',\n",
       "       'three quater', 'half sleeves', 'cap-sleeves', 'turndowncollor',\n",
       "       'threequater', 'capsleeves', 'sleeveless', 'sleeevless', 'half',\n",
       "       'urndowncollor', 'sleveless'], dtype=object)"
      ]
     },
     "execution_count": 34,
     "metadata": {},
     "output_type": "execute_result"
    }
   ],
   "source": [
    "inp1.SleeveLength.unique()"
   ]
  },
  {
   "cell_type": "markdown",
   "metadata": {},
   "source": [
    "## Univariate Analysis "
   ]
  },
  {
   "cell_type": "markdown",
   "metadata": {},
   "source": [
    "### Categorical Unordered Univariate Analysis\n",
    " "
   ]
  },
  {
   "cell_type": "code",
   "execution_count": 35,
   "metadata": {},
   "outputs": [
    {
     "data": {
      "text/plain": [
       "Index(['Dress_ID', 'Style', 'Price', 'Rating', 'Size', 'Season', 'NeckLine',\n",
       "       'SleeveLength', 'Material', 'FabricType', 'Decoration', 'Pattern Type',\n",
       "       'Recommendation', 'Summer', 'Autumn', 'Winter', 'Spring'],\n",
       "      dtype='object')"
      ]
     },
     "execution_count": 35,
     "metadata": {},
     "output_type": "execute_result"
    }
   ],
   "source": [
    "inp1.columns"
   ]
  },
  {
   "cell_type": "markdown",
   "metadata": {},
   "source": [
    "There is a column named ‘Style’ in ‘Attribute Dataset’ which consists of the different style categories of the women apparels. Certain categories whose total sale is less than 50000 across all the seasons is considered under one single category as ‘Others’.\n"
   ]
  },
  {
   "cell_type": "markdown",
   "metadata": {},
   "source": [
    "Which of the following categories in ‘Style’ column can be grouped into ‘Others’ category? and perform the grouping operation in the notebook for further analysis.\n",
    "- Flare, fashion\n",
    "- Novelty, bohemian\n",
    "- OL, fashion, work\n",
    "- Novelty, fashion, Flare\n"
   ]
  },
  {
   "cell_type": "markdown",
   "metadata": {},
   "source": [
    "# flare and fashion\n",
    "# novelty ,fashion and flare"
   ]
  },
  {
   "cell_type": "markdown",
   "metadata": {},
   "source": [
    "What is the percentage of “cute” and “Others” category in “Style” column in “Attribute DataSet” respectively?\n",
    "- 46%, 5%\n",
    "- 9%, 2.1%\n",
    "- 2.1%, 5%\n",
    "- 13.8%, 9%\n"
   ]
  },
  {
   "cell_type": "markdown",
   "metadata": {},
   "source": [
    "# 9% and 2.1%"
   ]
  },
  {
   "cell_type": "code",
   "execution_count": 36,
   "metadata": {},
   "outputs": [
    {
     "data": {
      "text/plain": [
       "Casual      46.072187\n",
       "Sexy        13.800425\n",
       "party       10.191083\n",
       "cute         9.129512\n",
       "vintage      5.307856\n",
       "bohemian     4.883227\n",
       "Brief        3.609342\n",
       "work         3.609342\n",
       "sexy         1.273885\n",
       "Novelty      1.273885\n",
       "Flare        0.424628\n",
       "OL           0.212314\n",
       "fashion      0.212314\n",
       "Name: Style, dtype: float64"
      ]
     },
     "execution_count": 36,
     "metadata": {},
     "output_type": "execute_result"
    }
   ],
   "source": [
    "# Calculate the percentage of each categories in the \"Style\" variable.\n",
    "inp1.Style.value_counts(normalize=True)*100"
   ]
  },
  {
   "cell_type": "code",
   "execution_count": 37,
   "metadata": {},
   "outputs": [
    {
     "name": "stdout",
     "output_type": "stream",
     "text": [
      "Casual      0.460722\n",
      "Sexy        0.138004\n",
      "party       0.101911\n",
      "cute        0.091295\n",
      "vintage     0.053079\n",
      "bohemian    0.048832\n",
      "Brief       0.036093\n",
      "work        0.036093\n",
      "sexy        0.012739\n",
      "Novelty     0.012739\n",
      "Flare       0.004246\n",
      "OL          0.002123\n",
      "fashion     0.002123\n",
      "Name: Style, dtype: float64\n"
     ]
    },
    {
     "data": {
      "image/png": "[encoded data removed]",
      "text/plain": [
       "<Figure size 640x480 with 1 Axes>"
      ]
     },
     "metadata": {},
     "output_type": "display_data"
    }
   ],
   "source": [
    "print(inp1.Style.value_counts(normalize=True))\n",
    "inp1.Style.value_counts(normalize=True).plot.barh()\n",
    "plt.show()"
   ]
  },
  {
   "cell_type": "code",
   "execution_count": 38,
   "metadata": {},
   "outputs": [
    {
     "data": {
      "text/html": [
       "<div>\n",
       "<style scoped>\n",
       "    .dataframe tbody tr th:only-of-type {\n",
       "        vertical-align: middle;\n",
       "    }\n",
       "\n",
       "    .dataframe tbody tr th {\n",
       "        vertical-align: top;\n",
       "    }\n",
       "\n",
       "    .dataframe thead th {\n",
       "        text-align: right;\n",
       "    }\n",
       "</style>\n",
       "<table border=\"1\" class=\"dataframe\">\n",
       "  <thead>\n",
       "    <tr style=\"text-align: right;\">\n",
       "      <th></th>\n",
       "      <th>Dress_ID</th>\n",
       "      <th>Style</th>\n",
       "      <th>Price</th>\n",
       "      <th>Rating</th>\n",
       "      <th>Size</th>\n",
       "      <th>Season</th>\n",
       "      <th>NeckLine</th>\n",
       "      <th>SleeveLength</th>\n",
       "      <th>Material</th>\n",
       "      <th>FabricType</th>\n",
       "      <th>Decoration</th>\n",
       "      <th>Pattern Type</th>\n",
       "      <th>Recommendation</th>\n",
       "      <th>Summer</th>\n",
       "      <th>Autumn</th>\n",
       "      <th>Winter</th>\n",
       "      <th>Spring</th>\n",
       "      <th>total</th>\n",
       "    </tr>\n",
       "  </thead>\n",
       "  <tbody>\n",
       "    <tr>\n",
       "      <th>0</th>\n",
       "      <td>1006032852</td>\n",
       "      <td>Sexy</td>\n",
       "      <td>Low</td>\n",
       "      <td>4.6</td>\n",
       "      <td>Medium</td>\n",
       "      <td>Summer</td>\n",
       "      <td>o-neck</td>\n",
       "      <td>sleeve less</td>\n",
       "      <td>Missing</td>\n",
       "      <td>chiffon</td>\n",
       "      <td>ruffles</td>\n",
       "      <td>animal</td>\n",
       "      <td>1</td>\n",
       "      <td>13899</td>\n",
       "      <td>26857.0</td>\n",
       "      <td>9658.0</td>\n",
       "      <td>2660</td>\n",
       "      <td>53074.0</td>\n",
       "    </tr>\n",
       "    <tr>\n",
       "      <th>1</th>\n",
       "      <td>1212192089</td>\n",
       "      <td>Casual</td>\n",
       "      <td>Low</td>\n",
       "      <td>0.0</td>\n",
       "      <td>Large</td>\n",
       "      <td>Summer</td>\n",
       "      <td>o-neck</td>\n",
       "      <td>Petal</td>\n",
       "      <td>microfiber</td>\n",
       "      <td>Missing</td>\n",
       "      <td>ruffles</td>\n",
       "      <td>animal</td>\n",
       "      <td>0</td>\n",
       "      <td>6216</td>\n",
       "      <td>17311.0</td>\n",
       "      <td>6405.0</td>\n",
       "      <td>750</td>\n",
       "      <td>30682.0</td>\n",
       "    </tr>\n",
       "    <tr>\n",
       "      <th>2</th>\n",
       "      <td>1190380701</td>\n",
       "      <td>vintage</td>\n",
       "      <td>High</td>\n",
       "      <td>0.0</td>\n",
       "      <td>Large</td>\n",
       "      <td>Autumn</td>\n",
       "      <td>o-neck</td>\n",
       "      <td>full sleeves</td>\n",
       "      <td>polyster</td>\n",
       "      <td>Missing</td>\n",
       "      <td>Missing</td>\n",
       "      <td>print</td>\n",
       "      <td>0</td>\n",
       "      <td>40</td>\n",
       "      <td>82.0</td>\n",
       "      <td>28.0</td>\n",
       "      <td>7</td>\n",
       "      <td>157.0</td>\n",
       "    </tr>\n",
       "    <tr>\n",
       "      <th>3</th>\n",
       "      <td>966005983</td>\n",
       "      <td>Brief</td>\n",
       "      <td>Average</td>\n",
       "      <td>4.6</td>\n",
       "      <td>Large</td>\n",
       "      <td>Spring</td>\n",
       "      <td>o-neck</td>\n",
       "      <td>full sleeves</td>\n",
       "      <td>silk</td>\n",
       "      <td>chiffon</td>\n",
       "      <td>embroidary</td>\n",
       "      <td>print</td>\n",
       "      <td>1</td>\n",
       "      <td>7213</td>\n",
       "      <td>14411.0</td>\n",
       "      <td>5012.0</td>\n",
       "      <td>1455</td>\n",
       "      <td>28091.0</td>\n",
       "    </tr>\n",
       "    <tr>\n",
       "      <th>4</th>\n",
       "      <td>876339541</td>\n",
       "      <td>cute</td>\n",
       "      <td>Low</td>\n",
       "      <td>4.5</td>\n",
       "      <td>Medium</td>\n",
       "      <td>Summer</td>\n",
       "      <td>o-neck</td>\n",
       "      <td>butterfly</td>\n",
       "      <td>chiffonfabric</td>\n",
       "      <td>chiffon</td>\n",
       "      <td>bow</td>\n",
       "      <td>dot</td>\n",
       "      <td>0</td>\n",
       "      <td>7706</td>\n",
       "      <td>14676.0</td>\n",
       "      <td>5678.0</td>\n",
       "      <td>1396</td>\n",
       "      <td>29456.0</td>\n",
       "    </tr>\n",
       "  </tbody>\n",
       "</table>\n",
       "</div>"
      ],
      "text/plain": [
       "     Dress_ID    Style    Price  Rating    Size  Season NeckLine  \\\n",
       "0  1006032852     Sexy      Low     4.6  Medium  Summer   o-neck   \n",
       "1  1212192089   Casual      Low     0.0   Large  Summer   o-neck   \n",
       "2  1190380701  vintage     High     0.0   Large  Autumn   o-neck   \n",
       "3   966005983    Brief  Average     4.6   Large  Spring   o-neck   \n",
       "4   876339541     cute      Low     4.5  Medium  Summer   o-neck   \n",
       "\n",
       "   SleeveLength       Material FabricType  Decoration Pattern Type  \\\n",
       "0   sleeve less        Missing    chiffon     ruffles       animal   \n",
       "1         Petal     microfiber    Missing     ruffles       animal   \n",
       "2  full sleeves       polyster    Missing     Missing        print   \n",
       "3  full sleeves           silk    chiffon  embroidary        print   \n",
       "4     butterfly  chiffonfabric    chiffon         bow          dot   \n",
       "\n",
       "   Recommendation  Summer   Autumn  Winter  Spring    total  \n",
       "0               1   13899  26857.0  9658.0    2660  53074.0  \n",
       "1               0    6216  17311.0  6405.0     750  30682.0  \n",
       "2               0      40     82.0    28.0       7    157.0  \n",
       "3               1    7213  14411.0  5012.0    1455  28091.0  \n",
       "4               0    7706  14676.0  5678.0    1396  29456.0  "
      ]
     },
     "execution_count": 38,
     "metadata": {},
     "output_type": "execute_result"
    }
   ],
   "source": [
    "inp1[\"total\"]=inp1[\"Autumn\"]+inp1[\"Spring\"]+inp1[\"Summer\"]+inp1[\"Winter\"]\n",
    "inp1.head()"
   ]
  },
  {
   "cell_type": "code",
   "execution_count": 39,
   "metadata": {},
   "outputs": [
    {
     "data": {
      "text/html": [
       "<div>\n",
       "<style scoped>\n",
       "    .dataframe tbody tr th:only-of-type {\n",
       "        vertical-align: middle;\n",
       "    }\n",
       "\n",
       "    .dataframe tbody tr th {\n",
       "        vertical-align: top;\n",
       "    }\n",
       "\n",
       "    .dataframe thead th {\n",
       "        text-align: right;\n",
       "    }\n",
       "</style>\n",
       "<table border=\"1\" class=\"dataframe\">\n",
       "  <thead>\n",
       "    <tr style=\"text-align: right;\">\n",
       "      <th></th>\n",
       "      <th>Style</th>\n",
       "      <th>total</th>\n",
       "    </tr>\n",
       "  </thead>\n",
       "  <tbody>\n",
       "    <tr>\n",
       "      <th>2</th>\n",
       "      <td>Flare</td>\n",
       "      <td>2089.0</td>\n",
       "    </tr>\n",
       "    <tr>\n",
       "      <th>3</th>\n",
       "      <td>Novelty</td>\n",
       "      <td>13286.0</td>\n",
       "    </tr>\n",
       "    <tr>\n",
       "      <th>4</th>\n",
       "      <td>OL</td>\n",
       "      <td>289.0</td>\n",
       "    </tr>\n",
       "    <tr>\n",
       "      <th>8</th>\n",
       "      <td>fashion</td>\n",
       "      <td>395.0</td>\n",
       "    </tr>\n",
       "  </tbody>\n",
       "</table>\n",
       "</div>"
      ],
      "text/plain": [
       "     Style    total\n",
       "2    Flare   2089.0\n",
       "3  Novelty  13286.0\n",
       "4       OL    289.0\n",
       "8  fashion    395.0"
      ]
     },
     "execution_count": 39,
     "metadata": {},
     "output_type": "execute_result"
    }
   ],
   "source": [
    "total_style=inp1.groupby(['Style'])[\"total\"].sum().reset_index()\n",
    "others = total_style[total_style[\"total\"]<50000]\n",
    "others"
   ]
  },
  {
   "cell_type": "code",
   "execution_count": 40,
   "metadata": {},
   "outputs": [
    {
     "data": {
      "text/plain": [
       "Casual      46.072187\n",
       "Sexy        13.800425\n",
       "party       10.191083\n",
       "cute         9.129512\n",
       "vintage      5.307856\n",
       "bohemian     4.883227\n",
       "Brief        3.609342\n",
       "work         3.609342\n",
       "sexy         1.273885\n",
       "Novelty      1.273885\n",
       "Flare        0.424628\n",
       "OL           0.212314\n",
       "fashion      0.212314\n",
       "Name: Style, dtype: float64"
      ]
     },
     "execution_count": 40,
     "metadata": {},
     "output_type": "execute_result"
    }
   ],
   "source": [
    "inp1.Style.value_counts(normalize=True)*100"
   ]
  },
  {
   "cell_type": "markdown",
   "metadata": {},
   "source": [
    "Similarly Club Neckline, SLeeve length categories into \"Others\" which have less than 50000 sales across all the seasons."
   ]
  },
  {
   "cell_type": "code",
   "execution_count": 41,
   "metadata": {},
   "outputs": [
    {
     "data": {
      "text/html": [
       "<div>\n",
       "<style scoped>\n",
       "    .dataframe tbody tr th:only-of-type {\n",
       "        vertical-align: middle;\n",
       "    }\n",
       "\n",
       "    .dataframe tbody tr th {\n",
       "        vertical-align: top;\n",
       "    }\n",
       "\n",
       "    .dataframe thead th {\n",
       "        text-align: right;\n",
       "    }\n",
       "</style>\n",
       "<table border=\"1\" class=\"dataframe\">\n",
       "  <thead>\n",
       "    <tr style=\"text-align: right;\">\n",
       "      <th></th>\n",
       "      <th>NeckLine</th>\n",
       "      <th>total</th>\n",
       "    </tr>\n",
       "  </thead>\n",
       "  <tbody>\n",
       "    <tr>\n",
       "      <th>0</th>\n",
       "      <td>Scoop</td>\n",
       "      <td>3135.0</td>\n",
       "    </tr>\n",
       "    <tr>\n",
       "      <th>1</th>\n",
       "      <td>Sweetheart</td>\n",
       "      <td>14588.0</td>\n",
       "    </tr>\n",
       "    <tr>\n",
       "      <th>2</th>\n",
       "      <td>backless</td>\n",
       "      <td>2888.0</td>\n",
       "    </tr>\n",
       "    <tr>\n",
       "      <th>4</th>\n",
       "      <td>bowneck</td>\n",
       "      <td>21633.0</td>\n",
       "    </tr>\n",
       "    <tr>\n",
       "      <th>5</th>\n",
       "      <td>halter</td>\n",
       "      <td>2355.0</td>\n",
       "    </tr>\n",
       "    <tr>\n",
       "      <th>6</th>\n",
       "      <td>mandarin-collor</td>\n",
       "      <td>289.0</td>\n",
       "    </tr>\n",
       "    <tr>\n",
       "      <th>8</th>\n",
       "      <td>open</td>\n",
       "      <td>7396.0</td>\n",
       "    </tr>\n",
       "    <tr>\n",
       "      <th>9</th>\n",
       "      <td>peterpan-collor</td>\n",
       "      <td>18908.0</td>\n",
       "    </tr>\n",
       "    <tr>\n",
       "      <th>12</th>\n",
       "      <td>sqare-collor</td>\n",
       "      <td>32395.0</td>\n",
       "    </tr>\n",
       "    <tr>\n",
       "      <th>13</th>\n",
       "      <td>sweetheart</td>\n",
       "      <td>2728.0</td>\n",
       "    </tr>\n",
       "  </tbody>\n",
       "</table>\n",
       "</div>"
      ],
      "text/plain": [
       "           NeckLine    total\n",
       "0             Scoop   3135.0\n",
       "1        Sweetheart  14588.0\n",
       "2          backless   2888.0\n",
       "4           bowneck  21633.0\n",
       "5            halter   2355.0\n",
       "6   mandarin-collor    289.0\n",
       "8              open   7396.0\n",
       "9   peterpan-collor  18908.0\n",
       "12     sqare-collor  32395.0\n",
       "13       sweetheart   2728.0"
      ]
     },
     "execution_count": 41,
     "metadata": {},
     "output_type": "execute_result"
    }
   ],
   "source": [
    "# Group \"Neckline\" categories into \"Others\" which have less than 50000 sales across all the seasons.\n",
    "total_neckline=inp1.groupby(['NeckLine'])[\"total\"].sum().reset_index()\n",
    "others=total_neckline[total_neckline[\"total\"]<50000]\n",
    "others"
   ]
  },
  {
   "cell_type": "code",
   "execution_count": 42,
   "metadata": {},
   "outputs": [
    {
     "data": {
      "text/html": [
       "<div>\n",
       "<style scoped>\n",
       "    .dataframe tbody tr th:only-of-type {\n",
       "        vertical-align: middle;\n",
       "    }\n",
       "\n",
       "    .dataframe tbody tr th {\n",
       "        vertical-align: top;\n",
       "    }\n",
       "\n",
       "    .dataframe thead th {\n",
       "        text-align: right;\n",
       "    }\n",
       "</style>\n",
       "<table border=\"1\" class=\"dataframe\">\n",
       "  <thead>\n",
       "    <tr style=\"text-align: right;\">\n",
       "      <th></th>\n",
       "      <th>SleeveLength</th>\n",
       "      <th>total</th>\n",
       "    </tr>\n",
       "  </thead>\n",
       "  <tbody>\n",
       "    <tr>\n",
       "      <th>0</th>\n",
       "      <td>Petal</td>\n",
       "      <td>30682.0</td>\n",
       "    </tr>\n",
       "    <tr>\n",
       "      <th>1</th>\n",
       "      <td>butterfly</td>\n",
       "      <td>29456.0</td>\n",
       "    </tr>\n",
       "    <tr>\n",
       "      <th>2</th>\n",
       "      <td>cap-sleeves</td>\n",
       "      <td>424.0</td>\n",
       "    </tr>\n",
       "    <tr>\n",
       "      <th>3</th>\n",
       "      <td>capsleeves</td>\n",
       "      <td>13179.0</td>\n",
       "    </tr>\n",
       "    <tr>\n",
       "      <th>5</th>\n",
       "      <td>half</td>\n",
       "      <td>373.0</td>\n",
       "    </tr>\n",
       "    <tr>\n",
       "      <th>8</th>\n",
       "      <td>sleeevless</td>\n",
       "      <td>1649.0</td>\n",
       "    </tr>\n",
       "    <tr>\n",
       "      <th>10</th>\n",
       "      <td>sleeveless</td>\n",
       "      <td>7538.0</td>\n",
       "    </tr>\n",
       "    <tr>\n",
       "      <th>11</th>\n",
       "      <td>sleveless</td>\n",
       "      <td>802.0</td>\n",
       "    </tr>\n",
       "    <tr>\n",
       "      <th>13</th>\n",
       "      <td>threequater</td>\n",
       "      <td>38.0</td>\n",
       "    </tr>\n",
       "    <tr>\n",
       "      <th>14</th>\n",
       "      <td>turndowncollor</td>\n",
       "      <td>2529.0</td>\n",
       "    </tr>\n",
       "    <tr>\n",
       "      <th>15</th>\n",
       "      <td>urndowncollor</td>\n",
       "      <td>1054.0</td>\n",
       "    </tr>\n",
       "  </tbody>\n",
       "</table>\n",
       "</div>"
      ],
      "text/plain": [
       "      SleeveLength    total\n",
       "0            Petal  30682.0\n",
       "1        butterfly  29456.0\n",
       "2      cap-sleeves    424.0\n",
       "3       capsleeves  13179.0\n",
       "5             half    373.0\n",
       "8       sleeevless   1649.0\n",
       "10      sleeveless   7538.0\n",
       "11       sleveless    802.0\n",
       "13     threequater     38.0\n",
       "14  turndowncollor   2529.0\n",
       "15   urndowncollor   1054.0"
      ]
     },
     "execution_count": 42,
     "metadata": {},
     "output_type": "execute_result"
    }
   ],
   "source": [
    "# Group \"Sleeve length\" categories into \"Others\" which have less than 50000 sales across all the seasons.\n",
    "total_sleeve=inp1.groupby(['SleeveLength'])[\"total\"].sum().reset_index()\n",
    "others=total_sleeve[total_sleeve[\"total\"]<50000]\n",
    "others"
   ]
  },
  {
   "cell_type": "markdown",
   "metadata": {},
   "source": [
    "Club material, fabrictype, patterntype and decoration categories into \"Others\" which have less than 25000 sales across all the seasons"
   ]
  },
  {
   "cell_type": "code",
   "execution_count": 43,
   "metadata": {},
   "outputs": [
    {
     "data": {
      "text/html": [
       "<div>\n",
       "<style scoped>\n",
       "    .dataframe tbody tr th:only-of-type {\n",
       "        vertical-align: middle;\n",
       "    }\n",
       "\n",
       "    .dataframe tbody tr th {\n",
       "        vertical-align: top;\n",
       "    }\n",
       "\n",
       "    .dataframe thead th {\n",
       "        text-align: right;\n",
       "    }\n",
       "</style>\n",
       "<table border=\"1\" class=\"dataframe\">\n",
       "  <thead>\n",
       "    <tr style=\"text-align: right;\">\n",
       "      <th></th>\n",
       "      <th>Material</th>\n",
       "      <th>total</th>\n",
       "    </tr>\n",
       "  </thead>\n",
       "  <tbody>\n",
       "    <tr>\n",
       "      <th>1</th>\n",
       "      <td>acrylic</td>\n",
       "      <td>12155.0</td>\n",
       "    </tr>\n",
       "    <tr>\n",
       "      <th>2</th>\n",
       "      <td>cashmere</td>\n",
       "      <td>5667.0</td>\n",
       "    </tr>\n",
       "    <tr>\n",
       "      <th>5</th>\n",
       "      <td>lace</td>\n",
       "      <td>6296.0</td>\n",
       "    </tr>\n",
       "    <tr>\n",
       "      <th>6</th>\n",
       "      <td>linen</td>\n",
       "      <td>20149.0</td>\n",
       "    </tr>\n",
       "    <tr>\n",
       "      <th>7</th>\n",
       "      <td>lycra</td>\n",
       "      <td>12555.0</td>\n",
       "    </tr>\n",
       "    <tr>\n",
       "      <th>11</th>\n",
       "      <td>modal</td>\n",
       "      <td>522.0</td>\n",
       "    </tr>\n",
       "    <tr>\n",
       "      <th>12</th>\n",
       "      <td>model</td>\n",
       "      <td>245.0</td>\n",
       "    </tr>\n",
       "    <tr>\n",
       "      <th>14</th>\n",
       "      <td>other</td>\n",
       "      <td>5458.0</td>\n",
       "    </tr>\n",
       "    <tr>\n",
       "      <th>17</th>\n",
       "      <td>shiffon</td>\n",
       "      <td>8295.0</td>\n",
       "    </tr>\n",
       "    <tr>\n",
       "      <th>19</th>\n",
       "      <td>sill</td>\n",
       "      <td>2719.0</td>\n",
       "    </tr>\n",
       "    <tr>\n",
       "      <th>20</th>\n",
       "      <td>spandex</td>\n",
       "      <td>22402.0</td>\n",
       "    </tr>\n",
       "    <tr>\n",
       "      <th>21</th>\n",
       "      <td>viscos</td>\n",
       "      <td>4180.0</td>\n",
       "    </tr>\n",
       "    <tr>\n",
       "      <th>22</th>\n",
       "      <td>wool</td>\n",
       "      <td>859.0</td>\n",
       "    </tr>\n",
       "  </tbody>\n",
       "</table>\n",
       "</div>"
      ],
      "text/plain": [
       "    Material    total\n",
       "1    acrylic  12155.0\n",
       "2   cashmere   5667.0\n",
       "5       lace   6296.0\n",
       "6      linen  20149.0\n",
       "7      lycra  12555.0\n",
       "11     modal    522.0\n",
       "12     model    245.0\n",
       "14     other   5458.0\n",
       "17   shiffon   8295.0\n",
       "19      sill   2719.0\n",
       "20   spandex  22402.0\n",
       "21    viscos   4180.0\n",
       "22      wool    859.0"
      ]
     },
     "execution_count": 43,
     "metadata": {},
     "output_type": "execute_result"
    }
   ],
   "source": [
    "# Group \"material\" categories into \"Others\" which have less than 25000 sales across all the seasons.\n",
    "total_material=inp1.groupby(['Material'])[\"total\"].sum().reset_index()\n",
    "others=total_material[total_material[\"total\"]<25000]\n",
    "others"
   ]
  },
  {
   "cell_type": "code",
   "execution_count": 44,
   "metadata": {},
   "outputs": [
    {
     "data": {
      "text/plain": [
       "Index(['Dress_ID', 'Style', 'Price', 'Rating', 'Size', 'Season', 'NeckLine',\n",
       "       'SleeveLength', 'Material', 'FabricType', 'Decoration', 'Pattern Type',\n",
       "       'Recommendation', 'Summer', 'Autumn', 'Winter', 'Spring', 'total'],\n",
       "      dtype='object')"
      ]
     },
     "execution_count": 44,
     "metadata": {},
     "output_type": "execute_result"
    }
   ],
   "source": [
    "inp1.columns"
   ]
  },
  {
   "cell_type": "code",
   "execution_count": 45,
   "metadata": {},
   "outputs": [
    {
     "data": {
      "text/html": [
       "<div>\n",
       "<style scoped>\n",
       "    .dataframe tbody tr th:only-of-type {\n",
       "        vertical-align: middle;\n",
       "    }\n",
       "\n",
       "    .dataframe tbody tr th {\n",
       "        vertical-align: top;\n",
       "    }\n",
       "\n",
       "    .dataframe thead th {\n",
       "        text-align: right;\n",
       "    }\n",
       "</style>\n",
       "<table border=\"1\" class=\"dataframe\">\n",
       "  <thead>\n",
       "    <tr style=\"text-align: right;\">\n",
       "      <th></th>\n",
       "      <th>FabricType</th>\n",
       "      <th>total</th>\n",
       "    </tr>\n",
       "  </thead>\n",
       "  <tbody>\n",
       "    <tr>\n",
       "      <th>0</th>\n",
       "      <td>Corduroy</td>\n",
       "      <td>10866.0</td>\n",
       "    </tr>\n",
       "    <tr>\n",
       "      <th>2</th>\n",
       "      <td>batik</td>\n",
       "      <td>4021.0</td>\n",
       "    </tr>\n",
       "    <tr>\n",
       "      <th>5</th>\n",
       "      <td>dobby</td>\n",
       "      <td>2761.0</td>\n",
       "    </tr>\n",
       "    <tr>\n",
       "      <th>6</th>\n",
       "      <td>flannael</td>\n",
       "      <td>6835.0</td>\n",
       "    </tr>\n",
       "    <tr>\n",
       "      <th>7</th>\n",
       "      <td>flannel</td>\n",
       "      <td>14733.0</td>\n",
       "    </tr>\n",
       "    <tr>\n",
       "      <th>9</th>\n",
       "      <td>knitted</td>\n",
       "      <td>14.0</td>\n",
       "    </tr>\n",
       "    <tr>\n",
       "      <th>10</th>\n",
       "      <td>knitting</td>\n",
       "      <td>39.0</td>\n",
       "    </tr>\n",
       "    <tr>\n",
       "      <th>11</th>\n",
       "      <td>lace</td>\n",
       "      <td>2082.0</td>\n",
       "    </tr>\n",
       "    <tr>\n",
       "      <th>12</th>\n",
       "      <td>organza</td>\n",
       "      <td>762.0</td>\n",
       "    </tr>\n",
       "    <tr>\n",
       "      <th>13</th>\n",
       "      <td>other</td>\n",
       "      <td>1251.0</td>\n",
       "    </tr>\n",
       "    <tr>\n",
       "      <th>14</th>\n",
       "      <td>poplin</td>\n",
       "      <td>1443.0</td>\n",
       "    </tr>\n",
       "    <tr>\n",
       "      <th>15</th>\n",
       "      <td>satin</td>\n",
       "      <td>11403.0</td>\n",
       "    </tr>\n",
       "    <tr>\n",
       "      <th>16</th>\n",
       "      <td>sattin</td>\n",
       "      <td>9673.0</td>\n",
       "    </tr>\n",
       "    <tr>\n",
       "      <th>18</th>\n",
       "      <td>terry</td>\n",
       "      <td>373.0</td>\n",
       "    </tr>\n",
       "    <tr>\n",
       "      <th>19</th>\n",
       "      <td>tulle</td>\n",
       "      <td>2119.0</td>\n",
       "    </tr>\n",
       "    <tr>\n",
       "      <th>20</th>\n",
       "      <td>wollen</td>\n",
       "      <td>2858.0</td>\n",
       "    </tr>\n",
       "  </tbody>\n",
       "</table>\n",
       "</div>"
      ],
      "text/plain": [
       "   FabricType    total\n",
       "0    Corduroy  10866.0\n",
       "2       batik   4021.0\n",
       "5       dobby   2761.0\n",
       "6    flannael   6835.0\n",
       "7     flannel  14733.0\n",
       "9     knitted     14.0\n",
       "10   knitting     39.0\n",
       "11       lace   2082.0\n",
       "12    organza    762.0\n",
       "13      other   1251.0\n",
       "14     poplin   1443.0\n",
       "15      satin  11403.0\n",
       "16     sattin   9673.0\n",
       "18      terry    373.0\n",
       "19      tulle   2119.0\n",
       "20     wollen   2858.0"
      ]
     },
     "execution_count": 45,
     "metadata": {},
     "output_type": "execute_result"
    }
   ],
   "source": [
    "# Group \"fabric type\" categories into \"Others\" which have less than 25000 sales across all the seasons.\n",
    "total_fabric=inp1.groupby(['FabricType'])[\"total\"].sum().reset_index()\n",
    "others=total_fabric[total_fabric[\"total\"]<25000]\n",
    "others"
   ]
  },
  {
   "cell_type": "code",
   "execution_count": 46,
   "metadata": {},
   "outputs": [
    {
     "data": {
      "text/html": [
       "<div>\n",
       "<style scoped>\n",
       "    .dataframe tbody tr th:only-of-type {\n",
       "        vertical-align: middle;\n",
       "    }\n",
       "\n",
       "    .dataframe tbody tr th {\n",
       "        vertical-align: top;\n",
       "    }\n",
       "\n",
       "    .dataframe thead th {\n",
       "        text-align: right;\n",
       "    }\n",
       "</style>\n",
       "<table border=\"1\" class=\"dataframe\">\n",
       "  <thead>\n",
       "    <tr style=\"text-align: right;\">\n",
       "      <th></th>\n",
       "      <th>Pattern Type</th>\n",
       "      <th>total</th>\n",
       "    </tr>\n",
       "  </thead>\n",
       "  <tbody>\n",
       "    <tr>\n",
       "      <th>2</th>\n",
       "      <td>character</td>\n",
       "      <td>3738.0</td>\n",
       "    </tr>\n",
       "    <tr>\n",
       "      <th>4</th>\n",
       "      <td>floral</td>\n",
       "      <td>10614.0</td>\n",
       "    </tr>\n",
       "    <tr>\n",
       "      <th>6</th>\n",
       "      <td>leapord</td>\n",
       "      <td>3017.0</td>\n",
       "    </tr>\n",
       "    <tr>\n",
       "      <th>8</th>\n",
       "      <td>none</td>\n",
       "      <td>5991.0</td>\n",
       "    </tr>\n",
       "    <tr>\n",
       "      <th>10</th>\n",
       "      <td>plaid</td>\n",
       "      <td>1369.0</td>\n",
       "    </tr>\n",
       "    <tr>\n",
       "      <th>13</th>\n",
       "      <td>splice</td>\n",
       "      <td>5112.0</td>\n",
       "    </tr>\n",
       "  </tbody>\n",
       "</table>\n",
       "</div>"
      ],
      "text/plain": [
       "   Pattern Type    total\n",
       "2     character   3738.0\n",
       "4        floral  10614.0\n",
       "6       leapord   3017.0\n",
       "8          none   5991.0\n",
       "10        plaid   1369.0\n",
       "13       splice   5112.0"
      ]
     },
     "execution_count": 46,
     "metadata": {},
     "output_type": "execute_result"
    }
   ],
   "source": [
    "# Group \"patern type\" categories into \"Others\" which have less than 25000 sales across all the seasons.\n",
    "total_pattern=inp1.groupby(['Pattern Type'])[\"total\"].sum().reset_index()\n",
    "others=total_pattern[total_pattern[\"total\"]<25000]\n",
    "others"
   ]
  },
  {
   "cell_type": "code",
   "execution_count": 47,
   "metadata": {},
   "outputs": [
    {
     "data": {
      "text/html": [
       "<div>\n",
       "<style scoped>\n",
       "    .dataframe tbody tr th:only-of-type {\n",
       "        vertical-align: middle;\n",
       "    }\n",
       "\n",
       "    .dataframe tbody tr th {\n",
       "        vertical-align: top;\n",
       "    }\n",
       "\n",
       "    .dataframe thead th {\n",
       "        text-align: right;\n",
       "    }\n",
       "</style>\n",
       "<table border=\"1\" class=\"dataframe\">\n",
       "  <thead>\n",
       "    <tr style=\"text-align: right;\">\n",
       "      <th></th>\n",
       "      <th>Decoration</th>\n",
       "      <th>total</th>\n",
       "    </tr>\n",
       "  </thead>\n",
       "  <tbody>\n",
       "    <tr>\n",
       "      <th>1</th>\n",
       "      <td>Tiered</td>\n",
       "      <td>22147.0</td>\n",
       "    </tr>\n",
       "    <tr>\n",
       "      <th>5</th>\n",
       "      <td>button</td>\n",
       "      <td>22203.0</td>\n",
       "    </tr>\n",
       "    <tr>\n",
       "      <th>6</th>\n",
       "      <td>cascading</td>\n",
       "      <td>210.0</td>\n",
       "    </tr>\n",
       "    <tr>\n",
       "      <th>7</th>\n",
       "      <td>crystal</td>\n",
       "      <td>6450.0</td>\n",
       "    </tr>\n",
       "    <tr>\n",
       "      <th>8</th>\n",
       "      <td>draped</td>\n",
       "      <td>7099.0</td>\n",
       "    </tr>\n",
       "    <tr>\n",
       "      <th>10</th>\n",
       "      <td>feathers</td>\n",
       "      <td>64.0</td>\n",
       "    </tr>\n",
       "    <tr>\n",
       "      <th>11</th>\n",
       "      <td>flowers</td>\n",
       "      <td>6676.0</td>\n",
       "    </tr>\n",
       "    <tr>\n",
       "      <th>14</th>\n",
       "      <td>none</td>\n",
       "      <td>3551.0</td>\n",
       "    </tr>\n",
       "    <tr>\n",
       "      <th>15</th>\n",
       "      <td>pearls</td>\n",
       "      <td>41.0</td>\n",
       "    </tr>\n",
       "    <tr>\n",
       "      <th>16</th>\n",
       "      <td>plain</td>\n",
       "      <td>2740.0</td>\n",
       "    </tr>\n",
       "    <tr>\n",
       "      <th>17</th>\n",
       "      <td>pockets</td>\n",
       "      <td>21532.0</td>\n",
       "    </tr>\n",
       "    <tr>\n",
       "      <th>18</th>\n",
       "      <td>rivet</td>\n",
       "      <td>17801.0</td>\n",
       "    </tr>\n",
       "    <tr>\n",
       "      <th>19</th>\n",
       "      <td>ruched</td>\n",
       "      <td>7940.0</td>\n",
       "    </tr>\n",
       "    <tr>\n",
       "      <th>23</th>\n",
       "      <td>tassel</td>\n",
       "      <td>939.0</td>\n",
       "    </tr>\n",
       "  </tbody>\n",
       "</table>\n",
       "</div>"
      ],
      "text/plain": [
       "   Decoration    total\n",
       "1      Tiered  22147.0\n",
       "5      button  22203.0\n",
       "6   cascading    210.0\n",
       "7     crystal   6450.0\n",
       "8      draped   7099.0\n",
       "10   feathers     64.0\n",
       "11    flowers   6676.0\n",
       "14       none   3551.0\n",
       "15     pearls     41.0\n",
       "16      plain   2740.0\n",
       "17    pockets  21532.0\n",
       "18      rivet  17801.0\n",
       "19     ruched   7940.0\n",
       "23     tassel    939.0"
      ]
     },
     "execution_count": 47,
     "metadata": {},
     "output_type": "execute_result"
    }
   ],
   "source": [
    "# Group \"decoration\" categories into \"Others\" which have less than 25000 sales across all the seasons.\n",
    "total_decoration=inp1.groupby(['Decoration'])[\"total\"].sum().reset_index()\n",
    "others=total_decoration[total_decoration[\"total\"]<25000]\n",
    "others"
   ]
  },
  {
   "cell_type": "markdown",
   "metadata": {},
   "source": [
    "### Caregorical Ordered Univariate Analysis"
   ]
  },
  {
   "cell_type": "markdown",
   "metadata": {},
   "source": [
    "Which of the following is an unordered variable in “Attribute DataSet”.\n",
    "- Style\n",
    "- Price\n",
    "- Season\n",
    "- Size\n"
   ]
  },
  {
   "cell_type": "markdown",
   "metadata": {},
   "source": [
    "# Style"
   ]
  },
  {
   "cell_type": "markdown",
   "metadata": {},
   "source": [
    "### Numerical variable Univariate analysis:"
   ]
  },
  {
   "cell_type": "markdown",
   "metadata": {},
   "source": [
    "What is the approximate difference between the maximum value and 75th percentile in “Autumn” column.\n",
    "- Approx 54000\n",
    "- Approx 55000\n",
    "- Approx 52000\n",
    "- Approx 50000\n",
    "\n"
   ]
  },
  {
   "cell_type": "markdown",
   "metadata": {},
   "source": [
    "# 52000"
   ]
  },
  {
   "cell_type": "code",
   "execution_count": 48,
   "metadata": {},
   "outputs": [
    {
     "data": {
      "text/plain": [
       "count      471.000000\n",
       "mean      2852.849257\n",
       "std       5037.033044\n",
       "min          1.000000\n",
       "25%        410.500000\n",
       "50%       1334.000000\n",
       "75%       3126.000000\n",
       "max      55532.000000\n",
       "Name: Autumn, dtype: float64"
      ]
     },
     "execution_count": 48,
     "metadata": {},
     "output_type": "execute_result"
    }
   ],
   "source": [
    "# Describe the numerical variale: \"Autumn\".\n",
    "inp1.Autumn.describe()"
   ]
  },
  {
   "cell_type": "code",
   "execution_count": 49,
   "metadata": {},
   "outputs": [
    {
     "data": {
      "text/plain": [
       "0.75     3126.0\n",
       "1.00    55532.0\n",
       "Name: Autumn, dtype: float64"
      ]
     },
     "execution_count": 49,
     "metadata": {},
     "output_type": "execute_result"
    }
   ],
   "source": [
    "inp1.Autumn.quantile([0.75,1.0])"
   ]
  },
  {
   "cell_type": "code",
   "execution_count": 50,
   "metadata": {},
   "outputs": [
    {
     "data": {
      "image/png": "[encoded data removed]",
      "text/plain": [
       "<Figure size 640x480 with 1 Axes>"
      ]
     },
     "metadata": {},
     "output_type": "display_data"
    }
   ],
   "source": [
    "# plot the boxplot of \"Autumn\" column.\n",
    "inp1[\"Autumn\"].plot.box()\n",
    "plt.show()"
   ]
  },
  {
   "cell_type": "markdown",
   "metadata": {},
   "source": [
    "Which of the following season has the highest difference between the maximum value and 99th quantile of sales?\n",
    "- Winter\n",
    "- Summer\n",
    "- Spring\n",
    "- Autumn\n"
   ]
  },
  {
   "cell_type": "markdown",
   "metadata": {},
   "source": [
    "# Autumn"
   ]
  },
  {
   "cell_type": "code",
   "execution_count": 82,
   "metadata": {},
   "outputs": [],
   "source": [
    "# Find the maximum and 99th percentile of Winter season.\n",
    "inp9=inp1.Winter.quantile([0.99,1,0])"
   ]
  },
  {
   "cell_type": "code",
   "execution_count": 83,
   "metadata": {},
   "outputs": [
    {
     "data": {
      "text/plain": [
       "0.99        NaN\n",
       "1.00    11402.7\n",
       "0.00   -20388.0\n",
       "Name: Winter, dtype: float64"
      ]
     },
     "execution_count": 83,
     "metadata": {},
     "output_type": "execute_result"
    }
   ],
   "source": [
    "inp9.diff()"
   ]
  },
  {
   "cell_type": "code",
   "execution_count": 78,
   "metadata": {},
   "outputs": [
    {
     "data": {
      "text/plain": [
       "11402.7"
      ]
     },
     "execution_count": 78,
     "metadata": {},
     "output_type": "execute_result"
    }
   ],
   "source": [
    "20388.0- 8985.3"
   ]
  },
  {
   "cell_type": "code",
   "execution_count": 53,
   "metadata": {},
   "outputs": [
    {
     "data": {
      "text/plain": [
       "0.99    13974.0\n",
       "1.00    35577.0\n",
       "Name: Summer, dtype: float64"
      ]
     },
     "execution_count": 53,
     "metadata": {},
     "output_type": "execute_result"
    }
   ],
   "source": [
    "# Find the maximum and 99th percentile of Summer season.\n",
    "inp1.Summer.quantile([0.99,1.0])"
   ]
  },
  {
   "cell_type": "code",
   "execution_count": 54,
   "metadata": {},
   "outputs": [
    {
     "data": {
      "text/plain": [
       "21428.0"
      ]
     },
     "execution_count": 54,
     "metadata": {},
     "output_type": "execute_result"
    }
   ],
   "source": [
    "35577.0-14149.0"
   ]
  },
  {
   "cell_type": "code",
   "execution_count": 55,
   "metadata": {},
   "outputs": [
    {
     "data": {
      "text/plain": [
       "0.99    2657.2\n",
       "1.00    7374.0\n",
       "Name: Spring, dtype: float64"
      ]
     },
     "execution_count": 55,
     "metadata": {},
     "output_type": "execute_result"
    }
   ],
   "source": [
    "# Find the maximum and 99th percentile of Spring season.\n",
    "inp1.Spring.quantile([0.99,1.0])"
   ]
  },
  {
   "cell_type": "code",
   "execution_count": 56,
   "metadata": {},
   "outputs": [
    {
     "data": {
      "text/plain": [
       "4530.0"
      ]
     },
     "execution_count": 56,
     "metadata": {},
     "output_type": "execute_result"
    }
   ],
   "source": [
    "7374.0- 2844.0"
   ]
  },
  {
   "cell_type": "code",
   "execution_count": 57,
   "metadata": {},
   "outputs": [
    {
     "data": {
      "text/plain": [
       "0.99    24134.0\n",
       "1.00    55532.0\n",
       "Name: Autumn, dtype: float64"
      ]
     },
     "execution_count": 57,
     "metadata": {},
     "output_type": "execute_result"
    }
   ],
   "source": [
    "# Find the maximum and 99th percentile of Autumn season.\n",
    "inp1.Autumn.quantile([0.99,1.0])"
   ]
  },
  {
   "cell_type": "code",
   "execution_count": 58,
   "metadata": {},
   "outputs": [
    {
     "data": {
      "text/plain": [
       "31728.51"
      ]
     },
     "execution_count": 58,
     "metadata": {},
     "output_type": "execute_result"
    }
   ],
   "source": [
    " 55532.00-23803.49"
   ]
  },
  {
   "cell_type": "code",
   "execution_count": 59,
   "metadata": {},
   "outputs": [
    {
     "data": {
      "text/html": [
       "<div>\n",
       "<style scoped>\n",
       "    .dataframe tbody tr th:only-of-type {\n",
       "        vertical-align: middle;\n",
       "    }\n",
       "\n",
       "    .dataframe tbody tr th {\n",
       "        vertical-align: top;\n",
       "    }\n",
       "\n",
       "    .dataframe thead th {\n",
       "        text-align: right;\n",
       "    }\n",
       "</style>\n",
       "<table border=\"1\" class=\"dataframe\">\n",
       "  <thead>\n",
       "    <tr style=\"text-align: right;\">\n",
       "      <th></th>\n",
       "      <th>Dress_ID</th>\n",
       "      <th>Style</th>\n",
       "      <th>Price</th>\n",
       "      <th>Rating</th>\n",
       "      <th>Size</th>\n",
       "      <th>Season</th>\n",
       "      <th>NeckLine</th>\n",
       "      <th>SleeveLength</th>\n",
       "      <th>Material</th>\n",
       "      <th>FabricType</th>\n",
       "      <th>Decoration</th>\n",
       "      <th>Pattern Type</th>\n",
       "      <th>Recommendation</th>\n",
       "      <th>Summer</th>\n",
       "      <th>Autumn</th>\n",
       "      <th>Winter</th>\n",
       "      <th>Spring</th>\n",
       "      <th>total</th>\n",
       "    </tr>\n",
       "  </thead>\n",
       "  <tbody>\n",
       "    <tr>\n",
       "      <th>0</th>\n",
       "      <td>1006032852</td>\n",
       "      <td>Sexy</td>\n",
       "      <td>Low</td>\n",
       "      <td>4.6</td>\n",
       "      <td>Medium</td>\n",
       "      <td>Summer</td>\n",
       "      <td>o-neck</td>\n",
       "      <td>sleeve less</td>\n",
       "      <td>Missing</td>\n",
       "      <td>chiffon</td>\n",
       "      <td>ruffles</td>\n",
       "      <td>animal</td>\n",
       "      <td>1</td>\n",
       "      <td>13899</td>\n",
       "      <td>26857.0</td>\n",
       "      <td>9658.0</td>\n",
       "      <td>2660</td>\n",
       "      <td>53074.0</td>\n",
       "    </tr>\n",
       "    <tr>\n",
       "      <th>1</th>\n",
       "      <td>1212192089</td>\n",
       "      <td>Casual</td>\n",
       "      <td>Low</td>\n",
       "      <td>0.0</td>\n",
       "      <td>Large</td>\n",
       "      <td>Summer</td>\n",
       "      <td>o-neck</td>\n",
       "      <td>Petal</td>\n",
       "      <td>microfiber</td>\n",
       "      <td>Missing</td>\n",
       "      <td>ruffles</td>\n",
       "      <td>animal</td>\n",
       "      <td>0</td>\n",
       "      <td>6216</td>\n",
       "      <td>17311.0</td>\n",
       "      <td>6405.0</td>\n",
       "      <td>750</td>\n",
       "      <td>30682.0</td>\n",
       "    </tr>\n",
       "    <tr>\n",
       "      <th>2</th>\n",
       "      <td>1190380701</td>\n",
       "      <td>vintage</td>\n",
       "      <td>High</td>\n",
       "      <td>0.0</td>\n",
       "      <td>Large</td>\n",
       "      <td>Autumn</td>\n",
       "      <td>o-neck</td>\n",
       "      <td>full sleeves</td>\n",
       "      <td>polyster</td>\n",
       "      <td>Missing</td>\n",
       "      <td>Missing</td>\n",
       "      <td>print</td>\n",
       "      <td>0</td>\n",
       "      <td>40</td>\n",
       "      <td>82.0</td>\n",
       "      <td>28.0</td>\n",
       "      <td>7</td>\n",
       "      <td>157.0</td>\n",
       "    </tr>\n",
       "  </tbody>\n",
       "</table>\n",
       "</div>"
      ],
      "text/plain": [
       "     Dress_ID    Style Price  Rating    Size  Season NeckLine  SleeveLength  \\\n",
       "0  1006032852     Sexy   Low     4.6  Medium  Summer   o-neck   sleeve less   \n",
       "1  1212192089   Casual   Low     0.0   Large  Summer   o-neck         Petal   \n",
       "2  1190380701  vintage  High     0.0   Large  Autumn   o-neck  full sleeves   \n",
       "\n",
       "     Material FabricType Decoration Pattern Type  Recommendation  Summer  \\\n",
       "0     Missing    chiffon    ruffles       animal               1   13899   \n",
       "1  microfiber    Missing    ruffles       animal               0    6216   \n",
       "2    polyster    Missing    Missing        print               0      40   \n",
       "\n",
       "    Autumn  Winter  Spring    total  \n",
       "0  26857.0  9658.0    2660  53074.0  \n",
       "1  17311.0  6405.0     750  30682.0  \n",
       "2     82.0    28.0       7    157.0  "
      ]
     },
     "execution_count": 59,
     "metadata": {},
     "output_type": "execute_result"
    }
   ],
   "source": [
    "inp1.head(3)"
   ]
  },
  {
   "cell_type": "markdown",
   "metadata": {},
   "source": [
    "## Bivariate Analysis "
   ]
  },
  {
   "cell_type": "markdown",
   "metadata": {},
   "source": [
    "### Numerical- Categorical analysis"
   ]
  },
  {
   "cell_type": "markdown",
   "metadata": {},
   "source": [
    "Which of the following “Price” category has the lowest average value of rating?\n",
    "- very-high\n",
    "- Medium\n",
    "- Low\n",
    "- High\n"
   ]
  },
  {
   "cell_type": "markdown",
   "metadata": {},
   "source": [
    "## High"
   ]
  },
  {
   "cell_type": "code",
   "execution_count": 60,
   "metadata": {},
   "outputs": [
    {
     "data": {
      "text/plain": [
       "Price\n",
       "Average      3.454430\n",
       "High         2.914286\n",
       "Low          3.731481\n",
       "Medium       3.156667\n",
       "very-high    3.123810\n",
       "Name: Rating, dtype: float64"
      ]
     },
     "execution_count": 60,
     "metadata": {},
     "output_type": "execute_result"
    }
   ],
   "source": [
    "# Find the Mean of Ratings for each Price category.\n",
    "mean_r=inp1.groupby(\"Price\")[\"Rating\"].mean()\n",
    "mean_r"
   ]
  },
  {
   "cell_type": "markdown",
   "metadata": {},
   "source": [
    "What is the median of the rating of “vintage” category in Style column?\n",
    "- 4.6\n",
    "- 4.7\n",
    "- 4.55\n",
    "- 0.00\n"
   ]
  },
  {
   "cell_type": "markdown",
   "metadata": {},
   "source": [
    "## answer is 4.6"
   ]
  },
  {
   "cell_type": "code",
   "execution_count": 61,
   "metadata": {},
   "outputs": [
    {
     "data": {
      "text/plain": [
       "Style\n",
       "Brief       4.60\n",
       "Casual      4.60\n",
       "Flare       0.00\n",
       "Novelty     2.10\n",
       "OL          0.00\n",
       "Sexy        4.60\n",
       "bohemian    4.60\n",
       "cute        4.60\n",
       "fashion     4.00\n",
       "party       4.70\n",
       "sexy        4.55\n",
       "vintage     4.60\n",
       "work        4.70\n",
       "Name: Rating, dtype: float64"
      ]
     },
     "execution_count": 61,
     "metadata": {},
     "output_type": "execute_result"
    }
   ],
   "source": [
    "# Find the median of Ratings for each Style category\n",
    "inp1.groupby(\"Style\")[\"Rating\"].median()"
   ]
  },
  {
   "cell_type": "markdown",
   "metadata": {},
   "source": [
    "Which of the following season has the highest average value of sale for “Recommendation” value equals to 1.\n",
    "- Summer\n",
    "- Spring\n",
    "- Autumn\n",
    "- Winter\n"
   ]
  },
  {
   "cell_type": "code",
   "execution_count": 62,
   "metadata": {},
   "outputs": [
    {
     "data": {
      "text/html": [
       "<div>\n",
       "<style scoped>\n",
       "    .dataframe tbody tr th:only-of-type {\n",
       "        vertical-align: middle;\n",
       "    }\n",
       "\n",
       "    .dataframe tbody tr th {\n",
       "        vertical-align: top;\n",
       "    }\n",
       "\n",
       "    .dataframe thead th {\n",
       "        text-align: right;\n",
       "    }\n",
       "</style>\n",
       "<table border=\"1\" class=\"dataframe\">\n",
       "  <thead>\n",
       "    <tr style=\"text-align: right;\">\n",
       "      <th></th>\n",
       "      <th>Season</th>\n",
       "      <th>Recommendation</th>\n",
       "    </tr>\n",
       "  </thead>\n",
       "  <tbody>\n",
       "  </tbody>\n",
       "</table>\n",
       "</div>"
      ],
      "text/plain": [
       "Empty DataFrame\n",
       "Columns: [Season, Recommendation]\n",
       "Index: []"
      ]
     },
     "execution_count": 62,
     "metadata": {},
     "output_type": "execute_result"
    }
   ],
   "source": [
    "season_new=inp1['Recommendation'].groupby(inp1['Season']).mean().reset_index()\n",
    "sea=season_new[season_new[\"Recommendation\"]==1]\n",
    "sea"
   ]
  },
  {
   "cell_type": "markdown",
   "metadata": {},
   "source": [
    "## Autumn"
   ]
  },
  {
   "cell_type": "code",
   "execution_count": 63,
   "metadata": {},
   "outputs": [
    {
     "data": {
      "image/png": "[encoded data removed]",
      "text/plain": [
       "<Figure size 640x480 with 1 Axes>"
      ]
     },
     "metadata": {},
     "output_type": "display_data"
    }
   ],
   "source": [
    "# Summer sale vs Recommendation.\n",
    "inp1.groupby(\"Recommendation\")['Summer'].mean().plot.barh()\n",
    "plt.show()"
   ]
  },
  {
   "cell_type": "code",
   "execution_count": 64,
   "metadata": {},
   "outputs": [
    {
     "data": {
      "image/png": "[encoded data removed]",
      "text/plain": [
       "<Figure size 640x480 with 1 Axes>"
      ]
     },
     "metadata": {},
     "output_type": "display_data"
    }
   ],
   "source": [
    "inp1.groupby(\"Recommendation\")['Summer'].mean()\n",
    "\n",
    "sns.boxplot(data=inp1, x=\"Recommendation\",y=\"Summer\")\n",
    "\n",
    "plt.show()"
   ]
  },
  {
   "cell_type": "code",
   "execution_count": 65,
   "metadata": {},
   "outputs": [
    {
     "data": {
      "image/png": "[encoded data removed]",
      "text/plain": [
       "<Figure size 640x480 with 1 Axes>"
      ]
     },
     "metadata": {},
     "output_type": "display_data"
    }
   ],
   "source": [
    "# Spring sale vs Recommendation.\n",
    "inp1.groupby(\"Recommendation\")['Spring'].mean().plot.barh()\n",
    "plt.show()"
   ]
  },
  {
   "cell_type": "code",
   "execution_count": 66,
   "metadata": {},
   "outputs": [
    {
     "data": {
      "image/png": "[encoded data removed]",
      "text/plain": [
       "<Figure size 640x480 with 1 Axes>"
      ]
     },
     "metadata": {},
     "output_type": "display_data"
    }
   ],
   "source": [
    "inp1.groupby(\"Recommendation\")['Spring'].mean()\n",
    "\n",
    "sns.boxplot(data=inp1, x=\"Recommendation\",y=\"Spring\")\n",
    "\n",
    "plt.show()"
   ]
  },
  {
   "cell_type": "code",
   "execution_count": 67,
   "metadata": {},
   "outputs": [
    {
     "data": {
      "image/png": "[encoded data removed]",
      "text/plain": [
       "<Figure size 640x480 with 1 Axes>"
      ]
     },
     "metadata": {},
     "output_type": "display_data"
    }
   ],
   "source": [
    "# Autumn sale vs Recommendation.\n",
    "inp1.groupby(\"Recommendation\")['Autumn'].mean().plot.barh()\n",
    "plt.show()"
   ]
  },
  {
   "cell_type": "code",
   "execution_count": 68,
   "metadata": {},
   "outputs": [
    {
     "data": {
      "image/png": "[encoded data removed]",
      "text/plain": [
       "<Figure size 640x480 with 1 Axes>"
      ]
     },
     "metadata": {},
     "output_type": "display_data"
    }
   ],
   "source": [
    "inp1.groupby(\"Recommendation\")['Autumn'].mean()\n",
    "sns.boxplot(data=inp1,x=\"Recommendation\",y=\"Autumn\")\n",
    "plt.show()"
   ]
  },
  {
   "cell_type": "code",
   "execution_count": 69,
   "metadata": {},
   "outputs": [
    {
     "data": {
      "image/png": "[encoded data removed]",
      "text/plain": [
       "<Figure size 640x480 with 1 Axes>"
      ]
     },
     "metadata": {},
     "output_type": "display_data"
    }
   ],
   "source": [
    "# Winter sale vs Recommendation.\n",
    "inp1.groupby(\"Recommendation\")['Winter'].mean().plot.barh()\n",
    "plt.show()"
   ]
  },
  {
   "cell_type": "code",
   "execution_count": 70,
   "metadata": {},
   "outputs": [
    {
     "data": {
      "image/png": "[encoded data removed]",
      "text/plain": [
       "<Figure size 640x480 with 1 Axes>"
      ]
     },
     "metadata": {},
     "output_type": "display_data"
    }
   ],
   "source": [
    "inp1.groupby(\"Recommendation\")['Winter'].mean()\n",
    "sns.boxplot(data=inp1,x=\"Recommendation\",y=\"Winter\")\n",
    "plt.show()"
   ]
  },
  {
   "cell_type": "markdown",
   "metadata": {},
   "source": [
    "### Categorical categorical bivariate analysis\n"
   ]
  },
  {
   "cell_type": "markdown",
   "metadata": {},
   "source": [
    "Which of the following size categories has the highest positive recommendations?\n",
    "- Medium and extra large\n",
    "- Extra large and small\n",
    "- Free and small\n",
    "- Free and medium\n"
   ]
  },
  {
   "cell_type": "markdown",
   "metadata": {},
   "source": [
    "# free and medium"
   ]
  },
  {
   "cell_type": "code",
   "execution_count": 71,
   "metadata": {},
   "outputs": [
    {
     "data": {
      "text/plain": [
       "Size\n",
       "Extra Large    0.285714\n",
       "Free           0.456790\n",
       "Large          0.359551\n",
       "Medium         0.447059\n",
       "Small          0.361111\n",
       "Name: Recommendation, dtype: float64"
      ]
     },
     "execution_count": 71,
     "metadata": {},
     "output_type": "execute_result"
    }
   ],
   "source": [
    "# Size vs Recommendation.\n",
    "inp1.groupby(\"Size\")[\"Recommendation\"].mean()\n"
   ]
  },
  {
   "cell_type": "code",
   "execution_count": 72,
   "metadata": {},
   "outputs": [
    {
     "data": {
      "image/png": "[encoded data removed]",
      "text/plain": [
       "<Figure size 640x480 with 1 Axes>"
      ]
     },
     "metadata": {},
     "output_type": "display_data"
    }
   ],
   "source": [
    "inp1.groupby(\"Size\")[\"Recommendation\"].mean().plot.barh()\n",
    "plt.show()"
   ]
  },
  {
   "cell_type": "code",
   "execution_count": 73,
   "metadata": {},
   "outputs": [
    {
     "data": {
      "text/plain": [
       "Size\n",
       "Extra Large     4\n",
       "Free           74\n",
       "Large          32\n",
       "Medium         76\n",
       "Small          13\n",
       "Name: Recommendation, dtype: int64"
      ]
     },
     "execution_count": 73,
     "metadata": {},
     "output_type": "execute_result"
    }
   ],
   "source": [
    "inp1.groupby('Size')['Recommendation'].sum()"
   ]
  },
  {
   "cell_type": "markdown",
   "metadata": {},
   "source": [
    "### Multivariate analysis "
   ]
  },
  {
   "cell_type": "markdown",
   "metadata": {},
   "source": [
    "Which of the following pair of “Style” and “Price” category has the highest average of positive recommendations?\n",
    "- Price: medium and style: vintage\n",
    "- Price: medium and style: cute\n",
    "- Price: very high and style: party\n",
    "- Price: low and style: sexy\n"
   ]
  },
  {
   "cell_type": "markdown",
   "metadata": {},
   "source": [
    "# price:medium ,style:cute"
   ]
  },
  {
   "cell_type": "code",
   "execution_count": 74,
   "metadata": {},
   "outputs": [
    {
     "data": {
      "text/html": [
       "<div>\n",
       "<style scoped>\n",
       "    .dataframe tbody tr th:only-of-type {\n",
       "        vertical-align: middle;\n",
       "    }\n",
       "\n",
       "    .dataframe tbody tr th {\n",
       "        vertical-align: top;\n",
       "    }\n",
       "\n",
       "    .dataframe thead th {\n",
       "        text-align: right;\n",
       "    }\n",
       "</style>\n",
       "<table border=\"1\" class=\"dataframe\">\n",
       "  <thead>\n",
       "    <tr style=\"text-align: right;\">\n",
       "      <th>Price</th>\n",
       "      <th>Average</th>\n",
       "      <th>High</th>\n",
       "      <th>Low</th>\n",
       "      <th>Medium</th>\n",
       "      <th>very-high</th>\n",
       "    </tr>\n",
       "    <tr>\n",
       "      <th>Style</th>\n",
       "      <th></th>\n",
       "      <th></th>\n",
       "      <th></th>\n",
       "      <th></th>\n",
       "      <th></th>\n",
       "    </tr>\n",
       "  </thead>\n",
       "  <tbody>\n",
       "    <tr>\n",
       "      <th>Brief</th>\n",
       "      <td>0.333333</td>\n",
       "      <td>NaN</td>\n",
       "      <td>0.000000</td>\n",
       "      <td>NaN</td>\n",
       "      <td>NaN</td>\n",
       "    </tr>\n",
       "    <tr>\n",
       "      <th>Casual</th>\n",
       "      <td>0.345455</td>\n",
       "      <td>0.666667</td>\n",
       "      <td>0.379310</td>\n",
       "      <td>0.666667</td>\n",
       "      <td>0.500000</td>\n",
       "    </tr>\n",
       "    <tr>\n",
       "      <th>Flare</th>\n",
       "      <td>0.500000</td>\n",
       "      <td>NaN</td>\n",
       "      <td>NaN</td>\n",
       "      <td>NaN</td>\n",
       "      <td>NaN</td>\n",
       "    </tr>\n",
       "    <tr>\n",
       "      <th>Novelty</th>\n",
       "      <td>0.400000</td>\n",
       "      <td>NaN</td>\n",
       "      <td>NaN</td>\n",
       "      <td>1.000000</td>\n",
       "      <td>NaN</td>\n",
       "    </tr>\n",
       "    <tr>\n",
       "      <th>OL</th>\n",
       "      <td>NaN</td>\n",
       "      <td>NaN</td>\n",
       "      <td>NaN</td>\n",
       "      <td>0.000000</td>\n",
       "      <td>NaN</td>\n",
       "    </tr>\n",
       "    <tr>\n",
       "      <th>Sexy</th>\n",
       "      <td>0.344828</td>\n",
       "      <td>0.000000</td>\n",
       "      <td>0.500000</td>\n",
       "      <td>0.000000</td>\n",
       "      <td>0.000000</td>\n",
       "    </tr>\n",
       "    <tr>\n",
       "      <th>bohemian</th>\n",
       "      <td>0.333333</td>\n",
       "      <td>NaN</td>\n",
       "      <td>0.666667</td>\n",
       "      <td>1.000000</td>\n",
       "      <td>1.000000</td>\n",
       "    </tr>\n",
       "    <tr>\n",
       "      <th>cute</th>\n",
       "      <td>0.400000</td>\n",
       "      <td>0.666667</td>\n",
       "      <td>0.500000</td>\n",
       "      <td>1.000000</td>\n",
       "      <td>NaN</td>\n",
       "    </tr>\n",
       "    <tr>\n",
       "      <th>fashion</th>\n",
       "      <td>0.000000</td>\n",
       "      <td>NaN</td>\n",
       "      <td>NaN</td>\n",
       "      <td>NaN</td>\n",
       "      <td>NaN</td>\n",
       "    </tr>\n",
       "    <tr>\n",
       "      <th>party</th>\n",
       "      <td>0.647059</td>\n",
       "      <td>0.333333</td>\n",
       "      <td>NaN</td>\n",
       "      <td>0.800000</td>\n",
       "      <td>0.823529</td>\n",
       "    </tr>\n",
       "    <tr>\n",
       "      <th>sexy</th>\n",
       "      <td>0.000000</td>\n",
       "      <td>NaN</td>\n",
       "      <td>0.750000</td>\n",
       "      <td>0.000000</td>\n",
       "      <td>NaN</td>\n",
       "    </tr>\n",
       "    <tr>\n",
       "      <th>vintage</th>\n",
       "      <td>0.352941</td>\n",
       "      <td>0.000000</td>\n",
       "      <td>0.250000</td>\n",
       "      <td>0.500000</td>\n",
       "      <td>NaN</td>\n",
       "    </tr>\n",
       "    <tr>\n",
       "      <th>work</th>\n",
       "      <td>0.214286</td>\n",
       "      <td>NaN</td>\n",
       "      <td>0.000000</td>\n",
       "      <td>0.000000</td>\n",
       "      <td>NaN</td>\n",
       "    </tr>\n",
       "  </tbody>\n",
       "</table>\n",
       "</div>"
      ],
      "text/plain": [
       "Price      Average      High       Low    Medium  very-high\n",
       "Style                                                      \n",
       "Brief     0.333333       NaN  0.000000       NaN        NaN\n",
       "Casual    0.345455  0.666667  0.379310  0.666667   0.500000\n",
       "Flare     0.500000       NaN       NaN       NaN        NaN\n",
       "Novelty   0.400000       NaN       NaN  1.000000        NaN\n",
       "OL             NaN       NaN       NaN  0.000000        NaN\n",
       "Sexy      0.344828  0.000000  0.500000  0.000000   0.000000\n",
       "bohemian  0.333333       NaN  0.666667  1.000000   1.000000\n",
       "cute      0.400000  0.666667  0.500000  1.000000        NaN\n",
       "fashion   0.000000       NaN       NaN       NaN        NaN\n",
       "party     0.647059  0.333333       NaN  0.800000   0.823529\n",
       "sexy      0.000000       NaN  0.750000  0.000000        NaN\n",
       "vintage   0.352941  0.000000  0.250000  0.500000        NaN\n",
       "work      0.214286       NaN  0.000000  0.000000        NaN"
      ]
     },
     "execution_count": 74,
     "metadata": {},
     "output_type": "execute_result"
    }
   ],
   "source": [
    "# plot the heat map of Style, price and Recommendation.\n",
    "heat=pd.pivot_table(data=inp1,index=\"Style\",columns=\"Price\",values=\"Recommendation\")\n",
    "heat"
   ]
  },
  {
   "cell_type": "code",
   "execution_count": 75,
   "metadata": {
    "scrolled": false
   },
   "outputs": [
    {
     "data": {
      "image/png": "[encoded data removed]",
      "text/plain": [
       "<Figure size 640x480 with 2 Axes>"
      ]
     },
     "metadata": {},
     "output_type": "display_data"
    }
   ],
   "source": [
    "heat=pd.pivot_table(data=inp1,index=\"Style\",columns=\"Price\",values=\"Recommendation\")\n",
    "sns.heatmap(heat,annot=True,cmap=\"Reds\",center=0.427)\n",
    "plt.show()"
   ]
  },
  {
   "cell_type": "markdown",
   "metadata": {},
   "source": [
    "Which of the following material type has no recommendation in summer and winter seasons?\n",
    "- Mix and Milksilk\n",
    "- Nylon and Rayon\n",
    "- Microfiber and Silk\n",
    "- Milksilk and Microfiber\n"
   ]
  },
  {
   "cell_type": "markdown",
   "metadata": {},
   "source": [
    "# milksilk and microfibre"
   ]
  },
  {
   "cell_type": "code",
   "execution_count": 76,
   "metadata": {},
   "outputs": [
    {
     "data": {
      "text/html": [
       "<div>\n",
       "<style scoped>\n",
       "    .dataframe tbody tr th:only-of-type {\n",
       "        vertical-align: middle;\n",
       "    }\n",
       "\n",
       "    .dataframe tbody tr th {\n",
       "        vertical-align: top;\n",
       "    }\n",
       "\n",
       "    .dataframe thead th {\n",
       "        text-align: right;\n",
       "    }\n",
       "</style>\n",
       "<table border=\"1\" class=\"dataframe\">\n",
       "  <thead>\n",
       "    <tr style=\"text-align: right;\">\n",
       "      <th>Season</th>\n",
       "      <th>Autumn</th>\n",
       "      <th>Spring</th>\n",
       "      <th>Summer</th>\n",
       "      <th>Winter</th>\n",
       "      <th>spring</th>\n",
       "    </tr>\n",
       "    <tr>\n",
       "      <th>Material</th>\n",
       "      <th></th>\n",
       "      <th></th>\n",
       "      <th></th>\n",
       "      <th></th>\n",
       "      <th></th>\n",
       "    </tr>\n",
       "  </thead>\n",
       "  <tbody>\n",
       "    <tr>\n",
       "      <th>Missing</th>\n",
       "      <td>0.428571</td>\n",
       "      <td>0.676471</td>\n",
       "      <td>0.454545</td>\n",
       "      <td>0.481481</td>\n",
       "      <td>0.0</td>\n",
       "    </tr>\n",
       "    <tr>\n",
       "      <th>acrylic</th>\n",
       "      <td>NaN</td>\n",
       "      <td>0.000000</td>\n",
       "      <td>0.000000</td>\n",
       "      <td>0.000000</td>\n",
       "      <td>NaN</td>\n",
       "    </tr>\n",
       "    <tr>\n",
       "      <th>cashmere</th>\n",
       "      <td>0.000000</td>\n",
       "      <td>NaN</td>\n",
       "      <td>NaN</td>\n",
       "      <td>1.000000</td>\n",
       "      <td>NaN</td>\n",
       "    </tr>\n",
       "    <tr>\n",
       "      <th>chiffonfabric</th>\n",
       "      <td>0.500000</td>\n",
       "      <td>0.600000</td>\n",
       "      <td>0.125000</td>\n",
       "      <td>0.000000</td>\n",
       "      <td>NaN</td>\n",
       "    </tr>\n",
       "    <tr>\n",
       "      <th>cotton</th>\n",
       "      <td>0.294118</td>\n",
       "      <td>0.560000</td>\n",
       "      <td>0.383562</td>\n",
       "      <td>0.500000</td>\n",
       "      <td>1.0</td>\n",
       "    </tr>\n",
       "    <tr>\n",
       "      <th>lace</th>\n",
       "      <td>0.000000</td>\n",
       "      <td>NaN</td>\n",
       "      <td>NaN</td>\n",
       "      <td>NaN</td>\n",
       "      <td>NaN</td>\n",
       "    </tr>\n",
       "    <tr>\n",
       "      <th>linen</th>\n",
       "      <td>0.000000</td>\n",
       "      <td>NaN</td>\n",
       "      <td>0.000000</td>\n",
       "      <td>NaN</td>\n",
       "      <td>NaN</td>\n",
       "    </tr>\n",
       "    <tr>\n",
       "      <th>lycra</th>\n",
       "      <td>NaN</td>\n",
       "      <td>1.000000</td>\n",
       "      <td>NaN</td>\n",
       "      <td>0.000000</td>\n",
       "      <td>NaN</td>\n",
       "    </tr>\n",
       "    <tr>\n",
       "      <th>microfiber</th>\n",
       "      <td>NaN</td>\n",
       "      <td>1.000000</td>\n",
       "      <td>0.000000</td>\n",
       "      <td>0.000000</td>\n",
       "      <td>NaN</td>\n",
       "    </tr>\n",
       "    <tr>\n",
       "      <th>milksilk</th>\n",
       "      <td>1.000000</td>\n",
       "      <td>NaN</td>\n",
       "      <td>0.000000</td>\n",
       "      <td>0.000000</td>\n",
       "      <td>NaN</td>\n",
       "    </tr>\n",
       "    <tr>\n",
       "      <th>mix</th>\n",
       "      <td>NaN</td>\n",
       "      <td>0.500000</td>\n",
       "      <td>0.333333</td>\n",
       "      <td>0.200000</td>\n",
       "      <td>NaN</td>\n",
       "    </tr>\n",
       "    <tr>\n",
       "      <th>modal</th>\n",
       "      <td>NaN</td>\n",
       "      <td>NaN</td>\n",
       "      <td>0.000000</td>\n",
       "      <td>NaN</td>\n",
       "      <td>NaN</td>\n",
       "    </tr>\n",
       "    <tr>\n",
       "      <th>model</th>\n",
       "      <td>NaN</td>\n",
       "      <td>NaN</td>\n",
       "      <td>1.000000</td>\n",
       "      <td>NaN</td>\n",
       "      <td>NaN</td>\n",
       "    </tr>\n",
       "    <tr>\n",
       "      <th>nylon</th>\n",
       "      <td>0.000000</td>\n",
       "      <td>0.333333</td>\n",
       "      <td>1.000000</td>\n",
       "      <td>0.333333</td>\n",
       "      <td>NaN</td>\n",
       "    </tr>\n",
       "    <tr>\n",
       "      <th>other</th>\n",
       "      <td>NaN</td>\n",
       "      <td>NaN</td>\n",
       "      <td>NaN</td>\n",
       "      <td>0.000000</td>\n",
       "      <td>NaN</td>\n",
       "    </tr>\n",
       "    <tr>\n",
       "      <th>polyster</th>\n",
       "      <td>0.266667</td>\n",
       "      <td>0.571429</td>\n",
       "      <td>0.071429</td>\n",
       "      <td>0.346939</td>\n",
       "      <td>NaN</td>\n",
       "    </tr>\n",
       "    <tr>\n",
       "      <th>rayon</th>\n",
       "      <td>0.666667</td>\n",
       "      <td>1.000000</td>\n",
       "      <td>0.333333</td>\n",
       "      <td>NaN</td>\n",
       "      <td>NaN</td>\n",
       "    </tr>\n",
       "    <tr>\n",
       "      <th>shiffon</th>\n",
       "      <td>NaN</td>\n",
       "      <td>0.500000</td>\n",
       "      <td>NaN</td>\n",
       "      <td>NaN</td>\n",
       "      <td>NaN</td>\n",
       "    </tr>\n",
       "    <tr>\n",
       "      <th>silk</th>\n",
       "      <td>0.000000</td>\n",
       "      <td>0.538462</td>\n",
       "      <td>0.000000</td>\n",
       "      <td>0.714286</td>\n",
       "      <td>NaN</td>\n",
       "    </tr>\n",
       "    <tr>\n",
       "      <th>sill</th>\n",
       "      <td>NaN</td>\n",
       "      <td>NaN</td>\n",
       "      <td>0.000000</td>\n",
       "      <td>NaN</td>\n",
       "      <td>NaN</td>\n",
       "    </tr>\n",
       "    <tr>\n",
       "      <th>spandex</th>\n",
       "      <td>NaN</td>\n",
       "      <td>0.500000</td>\n",
       "      <td>0.000000</td>\n",
       "      <td>NaN</td>\n",
       "      <td>NaN</td>\n",
       "    </tr>\n",
       "    <tr>\n",
       "      <th>viscos</th>\n",
       "      <td>NaN</td>\n",
       "      <td>NaN</td>\n",
       "      <td>0.000000</td>\n",
       "      <td>1.000000</td>\n",
       "      <td>NaN</td>\n",
       "    </tr>\n",
       "    <tr>\n",
       "      <th>wool</th>\n",
       "      <td>NaN</td>\n",
       "      <td>NaN</td>\n",
       "      <td>NaN</td>\n",
       "      <td>0.000000</td>\n",
       "      <td>NaN</td>\n",
       "    </tr>\n",
       "  </tbody>\n",
       "</table>\n",
       "</div>"
      ],
      "text/plain": [
       "Season           Autumn    Spring    Summer    Winter  spring\n",
       "Material                                                     \n",
       "Missing        0.428571  0.676471  0.454545  0.481481     0.0\n",
       "acrylic             NaN  0.000000  0.000000  0.000000     NaN\n",
       "cashmere       0.000000       NaN       NaN  1.000000     NaN\n",
       "chiffonfabric  0.500000  0.600000  0.125000  0.000000     NaN\n",
       "cotton         0.294118  0.560000  0.383562  0.500000     1.0\n",
       "lace           0.000000       NaN       NaN       NaN     NaN\n",
       "linen          0.000000       NaN  0.000000       NaN     NaN\n",
       "lycra               NaN  1.000000       NaN  0.000000     NaN\n",
       "microfiber          NaN  1.000000  0.000000  0.000000     NaN\n",
       "milksilk       1.000000       NaN  0.000000  0.000000     NaN\n",
       "mix                 NaN  0.500000  0.333333  0.200000     NaN\n",
       "modal               NaN       NaN  0.000000       NaN     NaN\n",
       "model               NaN       NaN  1.000000       NaN     NaN\n",
       "nylon          0.000000  0.333333  1.000000  0.333333     NaN\n",
       "other               NaN       NaN       NaN  0.000000     NaN\n",
       "polyster       0.266667  0.571429  0.071429  0.346939     NaN\n",
       "rayon          0.666667  1.000000  0.333333       NaN     NaN\n",
       "shiffon             NaN  0.500000       NaN       NaN     NaN\n",
       "silk           0.000000  0.538462  0.000000  0.714286     NaN\n",
       "sill                NaN       NaN  0.000000       NaN     NaN\n",
       "spandex             NaN  0.500000  0.000000       NaN     NaN\n",
       "viscos              NaN       NaN  0.000000  1.000000     NaN\n",
       "wool                NaN       NaN       NaN  0.000000     NaN"
      ]
     },
     "execution_count": 76,
     "metadata": {},
     "output_type": "execute_result"
    }
   ],
   "source": [
    "# plot the heat map of Season, material and Recommendation.\n",
    "heat2=pd.pivot_table(data=inp1,index=\"Material\",columns=\"Season\",values=\"Recommendation\")\n",
    "heat2"
   ]
  },
  {
   "cell_type": "code",
   "execution_count": 77,
   "metadata": {},
   "outputs": [
    {
     "data": {
      "image/png": "[encoded data removed]",
      "text/plain": [
       "<Figure size 640x480 with 2 Axes>"
      ]
     },
     "metadata": {},
     "output_type": "display_data"
    }
   ],
   "source": [
    "sns.heatmap(heat2[[\"Summer\",\"Winter\"]],annot=True,cmap=\"Reds\",center=0.427)\n",
    "plt.show()"
   ]
  }
 ],
 "metadata": {
  "kernelspec": {
   "display_name": "Python 3 (ipykernel)",
   "language": "python",
   "name": "python3"
  },
  "language_info": {
   "codemirror_mode": {
    "name": "ipython",
    "version": 3
   },
   "file_extension": ".py",
   "mimetype": "text/x-python",
   "name": "python",
   "nbconvert_exporter": "python",
   "pygments_lexer": "ipython3",
   "version": "3.10.9"
  }
 },
 "nbformat": 4,
 "nbformat_minor": 2
}
